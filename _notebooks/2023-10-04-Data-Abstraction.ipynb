{
 "cells": [
  {
   "cell_type": "markdown",
   "metadata": {},
   "source": [
    "---\n",
    "layout: post\n",
    "toc: true\n",
    "title: Data Abstraction\n",
    "description: Popcorn hacks during the data abstraction lesson as well as the homework\n",
    "type: hacks\n",
    "comments: true\n",
    "courses: { compsci: {week: 7} }\n",
    "---"
   ]
  },
  {
   "cell_type": "markdown",
   "metadata": {},
   "source": [
    "## Popcorn Hack 1"
   ]
  },
  {
   "cell_type": "code",
   "execution_count": 1,
   "metadata": {},
   "outputs": [
    {
     "name": "stdout",
     "output_type": "stream",
     "text": [
      "Trevor Huang\n"
     ]
    }
   ],
   "source": [
    "name = \"Trevor Huang\"\n",
    "print(name)"
   ]
  },
  {
   "cell_type": "markdown",
   "metadata": {},
   "source": [
    "## Popcorn Hack 2"
   ]
  },
  {
   "cell_type": "code",
   "execution_count": 3,
   "metadata": {},
   "outputs": [
    {
     "name": "stdout",
     "output_type": "stream",
     "text": [
      "Trevor Huang\n",
      "15\n",
      "True\n"
     ]
    }
   ],
   "source": [
    "name = \"Trevor Huang\"\n",
    "age = 15\n",
    "likesCats = True\n",
    "\n",
    "print(name)\n",
    "print(age)\n",
    "print(likesCats)"
   ]
  },
  {
   "cell_type": "markdown",
   "metadata": {},
   "source": [
    "## Popcorn Hack 3"
   ]
  },
  {
   "cell_type": "code",
   "execution_count": 5,
   "metadata": {},
   "outputs": [
    {
     "name": "stdout",
     "output_type": "stream",
     "text": [
      "Ian Wu\n"
     ]
    }
   ],
   "source": [
    "person1 = \"Ian Wu\"\n",
    "person2 = \"Jason Guan\"\n",
    "idol = \"Kyle Liang\"\n",
    "\n",
    "person2 = person1\n",
    "idol = person2\n",
    "print(idol)"
   ]
  },
  {
   "cell_type": "markdown",
   "metadata": {},
   "source": [
    "## Popcorn Hack 4"
   ]
  },
  {
   "cell_type": "code",
   "execution_count": 6,
   "metadata": {},
   "outputs": [
    {
     "name": "stdout",
     "output_type": "stream",
     "text": [
      "XC\n"
     ]
    }
   ],
   "source": [
    "list = [\"Robotics\", \"XC\", \"Brawl Stars\", \"Engineering\", \"Ian Wu\"]\n",
    "print(list[1])"
   ]
  },
  {
   "cell_type": "markdown",
   "metadata": {},
   "source": [
    "## Popcorn Hack 5"
   ]
  },
  {
   "cell_type": "code",
   "execution_count": 5,
   "metadata": {},
   "outputs": [
    {
     "name": "stdout",
     "output_type": "stream",
     "text": [
      "[\"French Fries\", \"Burgers\", \"Milkshake\", \"Soft drink\"]\n"
     ]
    }
   ],
   "source": [
    "import json\n",
    "menu = [\"French Fries\", \"Burgers\", \"Milkshake\", \"Soft drink\"]\n",
    "json_obj = json.dumps(menu)\n",
    "print(json_obj)"
   ]
  },
  {
   "cell_type": "markdown",
   "metadata": {},
   "source": [
    "# Homework"
   ]
  },
  {
   "cell_type": "code",
   "execution_count": 15,
   "metadata": {},
   "outputs": [
    {
     "name": "stdout",
     "output_type": "stream",
     "text": [
      "Maria Branyas is the oldest person at 116 years old\n",
      "You can't have negative ages...\n"
     ]
    }
   ],
   "source": [
    "# Making 2 Dictionaries\n",
    "people = {\n",
    "    \"Trevor\": 15,\n",
    "    \"Toby\": 17,\n",
    "    \"Ian\": 15,\n",
    "    \"Tarun\": 14,\n",
    "    \"Maria Branyas\": 116\n",
    "}\n",
    "\n",
    "negative = {\n",
    "    \"Bobby\": -232,\n",
    "    \"Tristan\": -1,\n",
    "    \"Mark\": -12\n",
    "}\n",
    "\n",
    "def oldest_person(people):\n",
    "    # Setting up the variables\n",
    "    oldest = 0\n",
    "    oldest_ppl = \"\"\n",
    "    for person, age in people.items():\n",
    "        ## IF the person's age is greater than all of the previous ages, then replace oldest with their age\n",
    "        if age > oldest:\n",
    "            oldest = age\n",
    "            oldest_ppl = person\n",
    "        ## if the person's age is less than 0, then tell the person negative ages don't exist. I needed to use an elif statement because an else statement would run between toby and ian and count them as negative because toby > ian\n",
    "        elif age < 0:\n",
    "            return \"You can't have negative ages...\"\n",
    "    return str(oldest_ppl) + \" is the oldest person at \" + str(oldest) + \" years old\"\n",
    "\n",
    "# Code so that I can print both at the same time\n",
    "result1 = oldest_person(people)\n",
    "result2 = oldest_person(negative)\n",
    "\n",
    "print(result1)\n",
    "print(result2)"
   ]
  }
 ],
 "metadata": {
  "kernelspec": {
   "display_name": "Python 3",
   "language": "python",
   "name": "python3"
  },
  "language_info": {
   "codemirror_mode": {
    "name": "ipython",
    "version": 3
   },
   "file_extension": ".py",
   "mimetype": "text/x-python",
   "name": "python",
   "nbconvert_exporter": "python",
   "pygments_lexer": "ipython3",
   "version": "3.10.12"
  },
  "orig_nbformat": 4
 },
 "nbformat": 4,
 "nbformat_minor": 2
}
