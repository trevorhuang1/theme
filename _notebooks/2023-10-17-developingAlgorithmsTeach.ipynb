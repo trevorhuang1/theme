{
 "cells": [
  {
   "cell_type": "markdown",
   "metadata": {},
   "source": [
    "---\n",
    "toc: true\n",
    "comments: false\n",
    "layout: post\n",
    "title: CB 3.9. 3.15 Developing Algoritms\n",
    "description: College Board Big Idea 3, Idea 9, Developing Algorithms\n",
    "courses: { compsci: {week: 9} }\n",
    "type: hacks\n",
    "---"
   ]
  },
  {
   "cell_type": "markdown",
   "metadata": {},
   "source": [
    "Lets start off with the basics. \n",
    "What is an algorithm? \n",
    "\n",
    "- An algorithm is a procedure or formula used for solving a problem. It has a sequence of events, inputs, and outputs. \n",
    "\n",
    "\n",
    "What are algorithms used for? \n",
    "\n",
    "- Algorithms are used in many different aspect of life. For example a form of routine is an algorithm as it is a series of specified events. \n",
    "\n",
    "\n",
    "Why are algorithms important? \n",
    "\n",
    "- It solves a problem in a way that it can be applied to any similar problem. It allows the computer to solve the problem on its own w/o any form of human interference. "
   ]
  },
  {
   "cell_type": "code",
   "execution_count": null,
   "metadata": {},
   "outputs": [],
   "source": [
    "# Psuedo Code 1\n",
    "DISPLAY (\"What is the temperature outside in F?\")\n",
    "temp <- INPUT()\n",
    "IF (temp >= 90)\n",
    "{\n",
    "    DISPLAY(\"its too hot outide\")\n",
    "}\n",
    "ELSE \n",
    "{\n",
    "    IF (temp >= 65){\n",
    "        DISPLAY (\"sure I will play outside\")\n",
    "    }\n",
    "    ELSE \n",
    "    {\n",
    "        DISPLAY (\"its too cold outside\")\n",
    "    }\n",
    "}\n",
    "\n",
    "# Psuedo Code 2\n",
    "DISPLAY (\"What is the temperature outside in F?\")\n",
    "temp <- INPUT()\n",
    "IF (temp >= 90)\n",
    "{\n",
    "    DISPLAY(\"its too hot outide\")\n",
    "}\n",
    "IF (temp >= 65)\n",
    "{\n",
    "        DISPLAY (\"sure I will play outside\")\n",
    "}\n",
    "IF (temp < 65)\n",
    "{\n",
    "        DISPLAY (\"its too cold outside\")\n",
    "}"
   ]
  },
  {
   "cell_type": "markdown",
   "metadata": {},
   "source": [
    "What is the difference between the two pieces of code in the cell above?"
   ]
  },
  {
   "cell_type": "code",
   "execution_count": 1,
   "metadata": {},
   "outputs": [
    {
     "name": "stdout",
     "output_type": "stream",
     "text": [
      "What is the temperature outside in F?\n",
      "sure I will play outside\n"
     ]
    }
   ],
   "source": [
    "# Code 1\n",
    "print(\"What is the temperature outside in F?\")\n",
    "temp = int(input())\n",
    "\n",
    "if temp >= 90: \n",
    "    print(\"its too hot outide\")\n",
    "else:  \n",
    "    if temp >= 65:\n",
    "        print(\"sure I will play outside\")\n",
    "    else: \n",
    "        print(\"its too cold outside\")"
   ]
  },
  {
   "cell_type": "code",
   "execution_count": 3,
   "metadata": {},
   "outputs": [
    {
     "name": "stdout",
     "output_type": "stream",
     "text": [
      "What is the temperature outside in F?\n",
      "its too hot outide\n",
      "sure I will play outside\n"
     ]
    }
   ],
   "source": [
    "# Code 2\n",
    "print(\"What is the temperature outside in F?\")\n",
    "temp = int(input())\n",
    "\n",
    "if temp >= 90: \n",
    "    print(\"its too hot outide\")\n",
    "if temp >= 65:\n",
    "    print(\"sure I will play outside\")\n",
    "if temp < 65:\n",
    "    print(\"its too cold outside\")"
   ]
  },
  {
   "cell_type": "markdown",
   "metadata": {},
   "source": [
    "What happens if we plug 56 for the temp? What happens if we plug 95 in? \n",
    "\n",
    "If we plug 56 in, then it will display the text \"its too cold outside.\" It first checks the first input, if temp is greater than or equal to 90. Which it isn't so it moves on to the next if. If temp is greater than or equal to 65, which it isn't so it checks the last if/else statement and displays the text its too cold outside. \n",
    "\n",
    "If we plug 95 in we get two different results. Code one displays \"its too hot outide\" but code two displays \"its too hot outide\" and \"sure I will play outside.\" Why is this?  "
   ]
  },
  {
   "cell_type": "markdown",
   "metadata": {},
   "source": [
    "### Popcorn Hack #1 \n",
    "Adjust Pseudo Code #2 so that it has the same output as Code #1 for all inputs. "
   ]
  },
  {
   "cell_type": "code",
   "execution_count": 7,
   "metadata": {},
   "outputs": [
    {
     "name": "stdout",
     "output_type": "stream",
     "text": [
      "What is the temperature outside in F?\n",
      "its too hot outide\n"
     ]
    }
   ],
   "source": [
    "# Insert your code here: \n",
    "print(\"What is the temperature outside in F?\")\n",
    "temp = int(input())\n",
    "\n",
    "if temp >= 90: \n",
    "    print(\"its too hot outide\")\n",
    "elif temp >= 65:\n",
    "    print(\"sure I will play outside\")\n",
    "elif temp < 65:\n",
    "    print(\"its too cold outside\")"
   ]
  },
  {
   "cell_type": "markdown",
   "metadata": {},
   "source": [
    "# Conditionals vs Booleans \n",
    "\n",
    "Quick reminder: \n",
    "- Conditionals: checks if a condition is true or false using statements like if, elif, and else if. \n",
    "- Booleans: Data type that conditionals use, only two: true and false"
   ]
  },
  {
   "cell_type": "markdown",
   "metadata": {},
   "source": [
    "We have given an algorithm that uses conditionals and two boolean statements that should have the same output as the conditional. Which boolean statement works and which one doesn't? "
   ]
  },
  {
   "cell_type": "markdown",
   "metadata": {},
   "source": [
    "### Conditional: "
   ]
  },
  {
   "cell_type": "code",
   "execution_count": null,
   "metadata": {},
   "outputs": [],
   "source": [
    "# Psuedo Code\n",
    "IF (isHoliday)\n",
    "{\n",
    "    driveWork<- False\n",
    "}\n",
    "ELSE\n",
    "{\n",
    "    IF (iswWeekday)\n",
    "    {\n",
    "        driveWork <_ True\n",
    "    }\n",
    "    ELSE\n",
    "    {\n",
    "        driveWork <- False\n",
    "    }\n",
    "}"
   ]
  },
  {
   "cell_type": "markdown",
   "metadata": {},
   "source": [
    "### Boolean"
   ]
  },
  {
   "cell_type": "code",
   "execution_count": null,
   "metadata": {},
   "outputs": [],
   "source": [
    "# Option 1: \n",
    "driveWork <- ( (isHoliday) AND (isWeekday))\n",
    "\n",
    "# Option 2: \n",
    "driveWork <- ( (NOT (isHoliday)) AND (isWeekday))"
   ]
  },
  {
   "cell_type": "markdown",
   "metadata": {},
   "source": [
    "### Answer\n",
    "\n",
    "| <img src=\"https://i.ibb.co/hCtMMRH/Screenshot-2023-10-15-at-6-21-20-PM.png\" width = 600px height = auto > |\n",
    "\n",
    "Option 2 is the correct answer"
   ]
  },
  {
   "cell_type": "markdown",
   "metadata": {},
   "source": [
    "### Popcorn Hack #2\n",
    "Using the commands listed below, move the robot (gray triangle) through the white squares to the gray square wihtout touching the black squares in the least amount of lines as possible. \n",
    "\n",
    "Commands allowed: \n",
    "MOVE_FORWARD()\n",
    "- moves the robot one sqaure in the direction it is facing \n",
    "ROTATE_LEFT()\n",
    "- rotates the robot 90 degrees counterclockwise relative to itself \n",
    "ROTATE_RIGHT()\n",
    "- rotates the robot 90 degrees clockwise relative to itself \n",
    "CAN_MOVE()\n",
    "- checks if the robot can move forward in true or false (true: it can move forward. false: it can't move forward)"
   ]
  },
  {
   "cell_type": "markdown",
   "metadata": {},
   "source": [
    "| <img src=\"https://i.ibb.co/3TzmV2b/Screen-Shot-2023-10-16-at-7-45-01-PM.png\" width = 600px height = auto > |"
   ]
  },
  {
   "cell_type": "code",
   "execution_count": 8,
   "metadata": {},
   "outputs": [
    {
     "ename": "SyntaxError",
     "evalue": "invalid syntax (3132200247.py, line 2)",
     "output_type": "error",
     "traceback": [
      "\u001b[0;36m  File \u001b[0;32m\"/tmp/ipykernel_1209/3132200247.py\"\u001b[0;36m, line \u001b[0;32m2\u001b[0m\n\u001b[0;31m    WHILE CAN_MOVE() == True {\u001b[0m\n\u001b[0m          ^\u001b[0m\n\u001b[0;31mSyntaxError\u001b[0m\u001b[0;31m:\u001b[0m invalid syntax\n"
     ]
    }
   ],
   "source": [
    "# Insert your code here: \n",
    "WHILE CAN_MOVE() IS True {\n",
    "    REPEAT UNTIL GRAY SQUARE: \n",
    "        MOVE_FORWARD()\n",
    "        ROTATE_RIGHT()\n",
    "        MOVE_FORWARD()\n",
    "        ROTATE_LEFT()\n",
    "}"
   ]
  },
  {
   "cell_type": "markdown",
   "metadata": {},
   "source": [
    "### Optional Popcorn Hack\n",
    "Change your code to an algorithm that works for any given course. \n",
    "\n",
    "Hint: use if, elif, else, and CAN_MOVE() "
   ]
  },
  {
   "cell_type": "code",
   "execution_count": null,
   "metadata": {},
   "outputs": [],
   "source": [
    "# Insert your code here: "
   ]
  },
  {
   "cell_type": "markdown",
   "metadata": {},
   "source": [
    "# Combining Selection and/or Iteration\n",
    "\n",
    "Create an algorithm that uses selection and/or iteration to determine the cost of one item. \n",
    "THe display at the stores says the follorwing: \n",
    "- Green tagged items: 25% off \n",
    "- Red tagged items: 60% off\n",
    "- Tax on all items is 10% "
   ]
  },
  {
   "cell_type": "code",
   "execution_count": null,
   "metadata": {},
   "outputs": [],
   "source": [
    "# Psuedo Code\n",
    "DISPLAY (\"What is the cost of the item?\")\n",
    "cost <- INPUT()\n",
    "DIPLAY (\"Is the tag green or red (type \"True\" if it is green, type \"False\" for red)\")\n",
    "tag <- BOOL(INPUT())\n",
    "IF (tag == True) # Check if it is green tag (refer to lines above)\n",
    "{\n",
    "    cost <- 0.75 * cost\n",
    "}\n",
    "IF (tag == False) # Check if it is green tag (refer to lines above)\n",
    "{\n",
    "    cost <- 0.40 * cost\n",
    "}\n",
    "cost <- 1.10 * cost "
   ]
  },
  {
   "cell_type": "code",
   "execution_count": null,
   "metadata": {},
   "outputs": [],
   "source": [
    "print(\"What is the cost of the item?\")\n",
    "cost = int(input())\n",
    "print(\"Is the tag green or red (type \"True\" if it is green, type \"False\" for red)\")\n",
    "tag = bool(input())\n",
    "\n",
    "if tag == True: # Check if it is green tag (refer to lines above)\n",
    "    cost = 0.75 * cost\n",
    "if tag == False: # Check if it is green tag (refer to lines above)\n",
    "    cost = 0.40 * cost\n",
    "cost = 1.10 * cost # accounting for tax"
   ]
  },
  {
   "cell_type": "markdown",
   "metadata": {},
   "source": [
    "# Famous Collatz Conjecture\n",
    "\n",
    "1. Start with any positive integer \n",
    "2. IF that number is even, divide by 2\n",
    "3. If that number is odd, multiply by 3 and add 1\n",
    "4. Repeat steps 2 and 3 until you reach the number 1 \n",
    "\n",
    "6 -> 3 -> 10 -> 5 -> 16 -> 8 -> 4 -> 2 -> 1\n",
    "\n",
    "Collatz proposed that this sequence of numbers would always terminate at 1. The problem of whether this is true or not for all positive integers is still unsolved today. "
   ]
  },
  {
   "cell_type": "markdown",
   "metadata": {},
   "source": [
    "Lets create an algorithm that will start with any positive integer \"n\" and display the full sequence of numbers that result from this conjecture. "
   ]
  },
  {
   "cell_type": "code",
   "execution_count": null,
   "metadata": {},
   "outputs": [],
   "source": [
    "# Psuedo Code \n",
    "DISPLAY (\"choose a value for n\")\n",
    "n <- INPUT() \n",
    "DISPLAY (n)\n",
    "REPEAT UNTIL (n = 1)\n",
    "{\n",
    "    IF (n MOD 2 = 0)\n",
    "    {\n",
    "        n <- n/2\n",
    "    }\n",
    "    ELSE \n",
    "    {\n",
    "        n <- 3 * n + 1\n",
    "    }\n",
    "DISPLAY (n)\n",
    "}"
   ]
  },
  {
   "cell_type": "code",
   "execution_count": 10,
   "metadata": {},
   "outputs": [
    {
     "name": "stdout",
     "output_type": "stream",
     "text": [
      "choose a value for n\n",
      "889\n",
      "2668\n",
      "1334.0\n",
      "667.0\n",
      "2002.0\n",
      "1001.0\n",
      "3004.0\n",
      "1502.0\n",
      "751.0\n",
      "2254.0\n",
      "1127.0\n",
      "3382.0\n",
      "1691.0\n",
      "5074.0\n",
      "2537.0\n",
      "7612.0\n",
      "3806.0\n",
      "1903.0\n",
      "5710.0\n",
      "2855.0\n",
      "8566.0\n",
      "4283.0\n",
      "12850.0\n",
      "6425.0\n",
      "19276.0\n",
      "9638.0\n",
      "4819.0\n",
      "14458.0\n",
      "7229.0\n",
      "21688.0\n",
      "10844.0\n",
      "5422.0\n",
      "2711.0\n",
      "8134.0\n",
      "4067.0\n",
      "12202.0\n",
      "6101.0\n",
      "18304.0\n",
      "9152.0\n",
      "4576.0\n",
      "2288.0\n",
      "1144.0\n",
      "572.0\n",
      "286.0\n",
      "143.0\n",
      "430.0\n",
      "215.0\n",
      "646.0\n",
      "323.0\n",
      "970.0\n",
      "485.0\n",
      "1456.0\n",
      "728.0\n",
      "364.0\n",
      "182.0\n",
      "91.0\n",
      "274.0\n",
      "137.0\n",
      "412.0\n",
      "206.0\n",
      "103.0\n",
      "310.0\n",
      "155.0\n",
      "466.0\n",
      "233.0\n",
      "700.0\n",
      "350.0\n",
      "175.0\n",
      "526.0\n",
      "263.0\n",
      "790.0\n",
      "395.0\n",
      "1186.0\n",
      "593.0\n",
      "1780.0\n",
      "890.0\n",
      "445.0\n",
      "1336.0\n",
      "668.0\n",
      "334.0\n",
      "167.0\n",
      "502.0\n",
      "251.0\n",
      "754.0\n",
      "377.0\n",
      "1132.0\n",
      "566.0\n",
      "283.0\n",
      "850.0\n",
      "425.0\n",
      "1276.0\n",
      "638.0\n",
      "319.0\n",
      "958.0\n",
      "479.0\n",
      "1438.0\n",
      "719.0\n",
      "2158.0\n",
      "1079.0\n",
      "3238.0\n",
      "1619.0\n",
      "4858.0\n",
      "2429.0\n",
      "7288.0\n",
      "3644.0\n",
      "1822.0\n",
      "911.0\n",
      "2734.0\n",
      "1367.0\n",
      "4102.0\n",
      "2051.0\n",
      "6154.0\n",
      "3077.0\n",
      "9232.0\n",
      "4616.0\n",
      "2308.0\n",
      "1154.0\n",
      "577.0\n",
      "1732.0\n",
      "866.0\n",
      "433.0\n",
      "1300.0\n",
      "650.0\n",
      "325.0\n",
      "976.0\n",
      "488.0\n",
      "244.0\n",
      "122.0\n",
      "61.0\n",
      "184.0\n",
      "92.0\n",
      "46.0\n",
      "23.0\n",
      "70.0\n",
      "35.0\n",
      "106.0\n",
      "53.0\n",
      "160.0\n",
      "80.0\n",
      "40.0\n",
      "20.0\n",
      "10.0\n",
      "5.0\n",
      "16.0\n",
      "8.0\n",
      "4.0\n",
      "2.0\n",
      "1.0\n"
     ]
    }
   ],
   "source": [
    "# Code \n",
    "print(\"choose a value for n\")\n",
    "n = int(input())\n",
    "print(n)\n",
    "while n != 1: \n",
    "    if n % 2 == 0: \n",
    "        n = n/2\n",
    "    else: \n",
    "        n = (n*3)+1\n",
    "    print(n)"
   ]
  },
  {
   "cell_type": "markdown",
   "metadata": {},
   "source": [
    "### Popcorn hack #3\n",
    "\n",
    "We are given an algorhtim (below) for a robot to move from the current square to the grey square, completing the course (below). However it doesn't work. Why does the given algorithm not work? \n",
    "\n",
    "Using the commands listed below, fix the algorithm\n",
    "\n",
    "Commands allowed: \n",
    "MOVE_FORWARD()\n",
    "- moves the robot one sqaure in the direction it is facing \n",
    "ROTATE_LEFT()\n",
    "- rotates the robot 90 degrees counterclockwise relative to itself \n",
    "ROTATE_RIGHT()\n",
    "- rotates the robot 90 degrees clockwise relative to itself \n",
    "CAN_MOVE()\n",
    "- checks if the robot can move forward in true or false (true: it can move forward. false: it can't move forward)"
   ]
  },
  {
   "cell_type": "markdown",
   "metadata": {},
   "source": [
    "#### Course: \n",
    "\n",
    "| <img src=\"https://i.ibb.co/cgz67XJ/Screen-Shot-2023-10-16-at-8-05-24-PM.png\" width = 600px height = auto > |"
   ]
  },
  {
   "cell_type": "markdown",
   "metadata": {},
   "source": [
    "#### Given Algorithm "
   ]
  },
  {
   "cell_type": "code",
   "execution_count": null,
   "metadata": {},
   "outputs": [],
   "source": [
    "REPEAT UNTIL (goalReached)\n",
    "{\n",
    "    IF (CAN_MOVE(FORWARD))\n",
    "    {\n",
    "        MOVE_FORWARD\n",
    "    }\n",
    "    ELSE\n",
    "    {\n",
    "        IF CAN_MOVE(RIGHT)\n",
    "        {\n",
    "            ROTATE_RIGHT\n",
    "            MOVE_FORWARD\n",
    "        }\n",
    "    }\n",
    "}"
   ]
  },
  {
   "cell_type": "markdown",
   "metadata": {},
   "source": [
    "#### Put your answer to the question \"Why does the given algorithm not work?\" here: \n",
    "- Because if it hits a corner and can't move \n"
   ]
  },
  {
   "cell_type": "code",
   "execution_count": 11,
   "metadata": {},
   "outputs": [
    {
     "ename": "SyntaxError",
     "evalue": "invalid syntax (3318149462.py, line 2)",
     "output_type": "error",
     "traceback": [
      "\u001b[0;36m  File \u001b[0;32m\"/tmp/ipykernel_1209/3318149462.py\"\u001b[0;36m, line \u001b[0;32m2\u001b[0m\n\u001b[0;31m    REPEAT UNTIL (goalReached)\u001b[0m\n\u001b[0m           ^\u001b[0m\n\u001b[0;31mSyntaxError\u001b[0m\u001b[0;31m:\u001b[0m invalid syntax\n"
     ]
    }
   ],
   "source": [
    "# Insert your updated algorithm here: \n",
    "REPEAT UNTIL (goalReached)\n",
    "{\n",
    "    IF (CAN_MOVE(FORWARD))\n",
    "    {\n",
    "        MOVE_FORWARD\n",
    "    }\n",
    "    ELSE\n",
    "    {\n",
    "        IF CAN_MOVE(RIGHT)\n",
    "        {\n",
    "            ROTATE_RIGHT\n",
    "            MOVE_FORWARD\n",
    "        }\n",
    "        ELSE IF CAN_MOVE(LEFT)\n",
    "        {\n",
    "            ROTATE_LEFT\n",
    "            MOVE_FORWARD\n",
    "        }\n",
    "        ELSE \n",
    "        {\n",
    "            ROTATE_RIGHT\n",
    "            ROTATE_RIGHT\n",
    "        }\n",
    "    }\n",
    "}"
   ]
  },
  {
   "cell_type": "markdown",
   "metadata": {},
   "source": [
    "# Homework\n",
    "\n",
    "- Create an algorithm that uses selection and/or iteration that will represent one player's turn in a game. \n",
    "\n",
    "- During a turn, each player gets 4 attempts/chances to get the greates number possible. \n",
    "\n",
    "- During each attempt the player will use a random number generator to select a random number 1-10. \n",
    "\n",
    "- After the player has had 4 chances, their score is the greatest number they receieved from the random number generator, and their turn is over. "
   ]
  },
  {
   "cell_type": "markdown",
   "metadata": {},
   "source": [
    "Use the following flowchart to assist you: \n",
    "\n",
    "| <img src=\"https://i.ibb.co/ZBFgwn2/Screen-Shot-2023-10-15-at-7-40-22-PM.png\" width = 600px height = auto > "
   ]
  },
  {
   "cell_type": "code",
   "execution_count": 105,
   "metadata": {},
   "outputs": [
    {
     "name": "stdout",
     "output_type": "stream",
     "text": [
      "Your Turn: \n",
      "----------------------------------\n",
      "Attempt #:  1\n",
      "Score:  4\n",
      "Your Turn: \n",
      "----------------------------------\n",
      "Attempt #:  2\n",
      "Score:  8\n",
      "Your Turn: \n",
      "----------------------------------\n",
      "Attempt #:  3\n",
      "Score:  9\n",
      "Your Turn: \n",
      "----------------------------------\n",
      "Attempt #:  4\n",
      "Score  9\n",
      "\n",
      "\n",
      "My Turn: \n",
      "----------------------------------\n",
      "Attempt #:  1\n",
      "Score:  1\n",
      "My Turn: \n",
      "----------------------------------\n",
      "Attempt #:  2\n",
      "Score:  8\n",
      "My Turn: \n",
      "----------------------------------\n",
      "Attempt #:  3\n",
      "Score  8\n",
      "My Turn: \n",
      "----------------------------------\n",
      "Attempt #:  4\n",
      "Score  8\n",
      "\n",
      "\n",
      "You won\n"
     ]
    }
   ],
   "source": [
    "from random import randint\n",
    "attempts = 1\n",
    "myAttempts = 1\n",
    "number = 0\n",
    "score = 0\n",
    "myScore = 0\n",
    "myNumber = 0\n",
    "\n",
    "while attempts != 5:\n",
    "    print(\"Your Turn: \")\n",
    "    print(\"----------------------------------\")\n",
    "    print(\"Attempt #: \", attempts)\n",
    "    randomNum = randint(1,10)\n",
    "    if randomNum > number:\n",
    "        number = randomNum\n",
    "        print(\"Score: \", number)\n",
    "        attempts += 1\n",
    "    else:\n",
    "        print(\"Score \", number)\n",
    "        attempts += 1\n",
    "\n",
    "if attempts == 5:\n",
    "    print(\"\\n\")\n",
    "\n",
    "while myAttempts != 5:\n",
    "    print(\"My Turn: \")\n",
    "    print(\"----------------------------------\")\n",
    "    print(\"Attempt #: \", myAttempts)\n",
    "    randomNum = randint(1,10)\n",
    "    if randomNum > myNumber:\n",
    "        myNumber = randomNum\n",
    "        print(\"Score: \", myNumber)\n",
    "        myAttempts += 1\n",
    "    else:\n",
    "        print(\"Score \", myNumber)\n",
    "        myAttempts += 1\n",
    "\n",
    "myScore = myNumber\n",
    "score = number\n",
    "\n",
    "if myAttempts == 5:\n",
    "    print(\"\\n\")\n",
    "    if myScore > score:\n",
    "        print(\"I win\")\n",
    "    elif myScore == score:\n",
    "        print(\"Tie\")\n",
    "    else:\n",
    "        print(\"You won\")"
   ]
  }
 ],
 "metadata": {
  "kernelspec": {
   "display_name": "Python 3",
   "language": "python",
   "name": "python3"
  },
  "language_info": {
   "codemirror_mode": {
    "name": "ipython",
    "version": 3
   },
   "file_extension": ".py",
   "mimetype": "text/x-python",
   "name": "python",
   "nbconvert_exporter": "python",
   "pygments_lexer": "ipython3",
   "version": "3.10.12"
  }
 },
 "nbformat": 4,
 "nbformat_minor": 2
}
