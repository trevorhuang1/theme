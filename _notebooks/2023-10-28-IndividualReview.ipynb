{
 "cells": [
  {
   "cell_type": "markdown",
   "metadata": {},
   "source": [
    "---\n",
    "toc: true\n",
    "comments: true\n",
    "layout: post\n",
    "title: PixelPartner Individual Review\n",
    "description: This is a review of all of my accomplishments and struggles through the project.\n",
    "courses: { compsci: {week: 11} }\n",
    "type: tangibles\n",
    "---"
   ]
  },
  {
   "cell_type": "markdown",
   "metadata": {},
   "source": [
    "- Over the course of this project, I got a lot of opportunities to grow as a coder. I'm happy to say that I have been able to work with both front and backend which has increased my knowledge of the class. Here are some issues I ran into:\n",
    "    - Image to base64 code: <a href=\"https://github.com/BearytheGreenBear/fte-frontend/issues/1\">Issue</a>\n",
    "    - Downloading blank image bug (No issue unfortunately)\n",
    "    - Backend image history: <a href=\"https://github.com/trevorhuang1/fte-backend/issues/2\">Issue</a>\n",
    "    - Displaying the history: <a href=\"https://github.com/BearytheGreenBear/fte-frontend/issues/2\">Issue</a>\n",
    "    - Clearing the history: <a href=\"https://github.com/BearytheGreenBear/fte-frontend/issues/4\">Issue</a>"
   ]
  },
  {
   "cell_type": "markdown",
   "metadata": {},
   "source": [
    "## Image to base64 writeup:\n",
    "- <a href=\"https://github.com/BearytheGreenBear/fte-frontend/commit/3146f6c43027609077f403b2714d0ede078078b3\">Link to the commit</a>\n",
    "- This was my first big contribution to the project. My biggest struggle was probably just my lack of overall knowledge on how to do it\n",
    "- This is the code that I made\n",
    "```\n",
    "<script>\n",
    "    //getting the image inputted by user\n",
    "    const image = document.getElementById(\"imageInput\");\n",
    "    //add event listener for when image is uploaded and declare function on the spot\n",
    "    image.addEventListener(\"change\", function(){\n",
    "        //taking the first part of object FileList\n",
    "        const file = image.files[0];\n",
    "        //creates new instance of the FileReader object\n",
    "        var reader = new FileReader;\n",
    "\n",
    "        //listens for when the file is fully read\n",
    "        reader.addEventListener(\"load\", function() {\n",
    "            console.log(reader.result);\n",
    "        })\n",
    "\n",
    "        //initiates the reading process and reads the file as a data URL\n",
    "        reader.readAsDataURL(file);\n",
    "});\n",
    "</script>\n",
    "```\n",
    "\n",
    "- A minor error that I got was as shown:\n",
    "```\n",
    "Uncaught TypeError: Failed to execute 'readAsDataURL' on 'FileReader': parameter 1 is not of type 'Blob'.\n",
    "    at HTMLButtonElement.handleImageUpload\n",
    "```\n",
    "- The problem was actually that I used image.files instead of image.files[0]. I learned that image.files is actually an object of all the properties of the image and I only wanted the first part.\n",
    "\n",
    "### Summary:\n",
    "- Overall, the image to base64 code that I worked on significantly improved my coding skills and gave me some of the javascript experience I would need for future frontend code."
   ]
  },
  {
   "cell_type": "markdown",
   "metadata": {},
   "source": [
    "## Downloading blank image bug:\n",
    "- <a href=\"https://github.com/BearytheGreenBear/fte-frontend/commit/5230806549dbd133f6d2eee688eba7b70fa1aee7\">Link to the commit</a>\n",
    "- This was a really simple issue that for some reason caused my group a lot of anguish. Funnily enough, I was able to solve it in 3 lines of code.\n",
    "\n",
    "We thought that the following line in the code already solved the issue:\n",
    "```\n",
    "if (file) {\n",
    "    const reader = new FileReader();\n",
    "```\n",
    "\n",
    "```\n",
    "if (uploadedImage.width == 0) {\n",
    "    //sends alert\n",
    "    alert('Please upload an image before trying to download');\n",
    "        return;\n",
    "}\n",
    "```\n",
    "\n",
    "### Summary\n",
    "- I wanted to highlight this issue because in this moment I realized that creating a sound solution doesn't need to complicated. It just needs to work"
   ]
  },
  {
   "cell_type": "markdown",
   "metadata": {},
   "source": [
    "## Backend history:\n",
    "<a href=\"https://github.com/trevorhuang1/fte-backend/commit/83f69017773235a9337201ec92ad5578c4c53ad7\">Link to the commit</a>\n",
    "- This is a project that our entire group worked over a call\n",
    "- We encountered basically no errors besides typos, but the experience helped us become better collaborators\n",
    "- For instance, take a look at the whiteboard we made\n",
    "\n",
    "### Summary:\n",
    "- This one part of our project really helped us become better communicaters and teammates in general. "
   ]
  },
  {
   "cell_type": "markdown",
   "metadata": {},
   "source": [
    "## Displaying the history\n",
    "<a href=\"https://github.com/BearytheGreenBear/fte-frontend/commit/1fec30547c09b410430979c0fb3673421c01a5c4\">Link to the commit</a>\n",
    "- This was one of my biggest contributions to the team and definitely what I'm most proud of\n",
    "\n",
    "This is the code that I made using Mr. Mortensen's example:\n",
    "```\n",
    "<script>\n",
    "    //setting up url\n",
    "    const apiUrl = \"http://localhost:8017/api/pixel-partner-api/get_database\";\n",
    "    let images = [];\n",
    "    //fetches data from the url\n",
    "    function fetchDatabase() {\n",
    "        fetch(apiUrl)\n",
    "        //parsing as json\n",
    "        .then(response => response.json())\n",
    "        .then(response => {\n",
    "            images = response;\n",
    "            //gets the table id\n",
    "            table = document.getElementById(imageTables);\n",
    "            //loops through and fills in the table\n",
    "            images.forEach(entry => {\n",
    "                const row = table.insertRow();\n",
    "                const nameCell = row.insertCell(0); \n",
    "                const functionCell = row.insertCell(1); \n",
    "                const imageCell = row.insertCell(2);\n",
    "\n",
    "                nameCell.innerHTML = entry.name;\n",
    "                functionCell.innerHTML = entry.function;\n",
    "                imageCell = entry.image;\n",
    "            })\n",
    "        })\n",
    "    }\n",
    "</script>\n",
    "\n",
    "<h2>Image upload history:</h2>\n",
    "<table id=\"imageTables\">\n",
    "    <tr>\n",
    "        <th>Name</th>\n",
    "        <th>Function</th>\n",
    "        <th>Image</th>\n",
    "    </tr>\n",
    "</table>\n",
    "```\n",
    "\n",
    "- Ian and Mr. Lopez helped me a lot in fixing issues. You can see all the errors I encountered on the issue I made\n",
    "\n",
    "Most recent code (we are currently working on this)\n",
    "```\n",
    "<script>\n",
    "    //setting up url\n",
    "    // const apiUrl = \"http://localhost:8017/api/pixel-partner-api/get_database\";\n",
    "    const apiUrl = \"https://fte.stu.nighthawkcodingsociety.com/api/pixel-partner-api/get_database\";\n",
    "    let images = [];\n",
    "    //fetches data from the url\n",
    "    function fetchDatabase() {\n",
    "        fetch(apiUrl)\n",
    "        //parsing as json\n",
    "        .then(response => response.json())\n",
    "        .then(response => {\n",
    "            var images = JSON.parse(response).reverse();\n",
    "            console.log(images)\n",
    "            //gets the table id\n",
    "            var table = document.getElementById(\"imageTables\");\n",
    "            //loops through and fills in the table\n",
    "            for(var element of images){\n",
    "                var row = table.insertRow();\n",
    "                var nameCell = row.insertCell(0); \n",
    "                var functionCell = row.insertCell(1); \n",
    "                var imageCell = row.insertCell(2);\n",
    "\n",
    "                nameCell.innerHTML = element.name;\n",
    "                functionCell.innerHTML = element.func;\n",
    "\n",
    "                const fileExtension = element.name.split('.').pop();\n",
    "\n",
    "                var Imagecell = new Image();\n",
    "                Imagecell.src = 'data:image/' + fileExtension + ';base64,' + element.image;\n",
    "                imageCell.appendChild(Imagecell)\n",
    "\n",
    "                console.log(element);\n",
    "            }\n",
    "        })\n",
    "    }\n",
    "    //calls function to fetch database\n",
    "    fetchDatabase();\n",
    "</script>\n",
    "\n",
    "<h2>Image upload history:</h2>\n",
    "<table id=\"imageTables\">\n",
    "    <tr>\n",
    "        <th>Name</th>\n",
    "        <th>Function</th>\n",
    "        <th>Image</th>\n",
    "    </tr>\n",
    "</table>\n",
    "```"
   ]
  },
  {
   "cell_type": "markdown",
   "metadata": {},
   "source": [
    "## Clearing the image history\n",
    "<a href=\"https://github.com/BearytheGreenBear/fte-frontend/commit/bfb5ceb454595735b449cb89a59d2c0f25dc48ac\">Link to frontend commit</a>\n",
    "<a href=\"https://github.com/trevorhuang1/fte-backend/commit/2d5a3a0f19e62e78f020a443e767037217903b6d\">Link to backend commit</a>\n",
    "\n",
    "- This required me to use both the frontend and backend knowledge to clear the image history displayed on the website\n",
    "\n",
    "```\n",
    "# Initialize DB\n",
    "def initializeDatabase():\n",
    "    # Global so all functions can use\n",
    "    global engine, Session, session\n",
    "\n",
    "    # Create a database connection and session\n",
    "    engine = create_engine('sqlite:///database2.db')\n",
    "    Session = sessionmaker(bind=engine)\n",
    "    session = Session()\n",
    "\n",
    "    # Create the database table\n",
    "    Base.metadata.create_all(engine)\n",
    "\n",
    "def clearDatabase():\n",
    "    initializeDatabase()\n",
    "    session.query(Images).delete()\n",
    "    session.commit()\n",
    "    session.close()\n",
    "\n",
    "class _ClearDatabase(Resource):\n",
    "    def get(self):\n",
    "        clearDatabase()\n",
    "\n",
    "api.add_resource(_ClearDatabase, '/clear_database')\n",
    "```\n",
    "\n",
    "- I had to create a new function which initializes the database, deletes all the images, commits, and then closes so it full deletes all images\n",
    "- I was involved with our groups other backend functions such as the the getHistory function so this wasn't too hard for me\n",
    "\n",
    "```\n",
    "<button onclick=\"clearDatabase()\">Clear Image History</button>\n",
    "<button onclick=\"refreshPage()\">Refresh Database</button>\n",
    "\n",
    "    function clearDatabase() {\n",
    "        fetch(apiUrl2, {method: 'GET'})\n",
    "        .catch(err => {\n",
    "            error(err + \" \" + response.status);\n",
    "            });\n",
    "    }\n",
    "    function refreshPage() {\n",
    "        window.location.reload();\n",
    "    }\n",
    "```\n",
    "- I needed to use what I knew about fetching to use a GET request from the backend to clear the database. I wasn't to sure on how to do this so I asked my teammates to fill me in.\n",
    "- I learned a lot about fetching and the difference between GET requests and POST requests\n",
    "\n",
    "### Summary:\n",
    "- This experience helped me use both my frontend and backend knowledge that I had accumalated throughout this project and I'm satisfied with the result. It clears the website history effectively."
   ]
  },
  {
   "cell_type": "markdown",
   "metadata": {},
   "source": [
    "## Our team teach\n",
    "- For our team teach, I worked on the content for relational operators, and gates, and or gates. This was mostly just review for me and most of my learning of booleans and logic gates came as a result of when we reviewed the entirely file as a group."
   ]
  },
  {
   "cell_type": "markdown",
   "metadata": {},
   "source": [
    "## Other team teaches"
   ]
  },
  {
   "cell_type": "markdown",
   "metadata": {},
   "source": [
    "## College Board Quiz"
   ]
  },
  {
   "cell_type": "markdown",
   "metadata": {},
   "source": [
    "I got a score of 57/66 on the College Board quiz, so there's certainly a lot of mistakes that I could touch on. For the sake of time, I want to only review the questions that I missed the concept instead of just silly mistakes."
   ]
  },
  {
   "cell_type": "markdown",
   "metadata": {},
   "source": [
    "<img src=\"../_notebooks/image/Q30.png\" alt=\"Q30\" style=\"width:500px;height:300px\">"
   ]
  },
  {
   "cell_type": "markdown",
   "metadata": {},
   "source": [
    "Question 30:\n",
    "- I said it would take 1 hour, but that is incorrect. The analysis procedure takes 1 hour every time it is called and it is called 1 time outside the loop and 4 times within so it would take 5 hours.\n"
   ]
  },
  {
   "cell_type": "markdown",
   "metadata": {},
   "source": [
    "<img src=\"../_notebooks/image/Q33.png\" alt=\"Freeform\" style=\"width:500px;height:300px\">"
   ]
  },
  {
   "cell_type": "markdown",
   "metadata": {},
   "source": [
    "Question 33:\n",
    "- My mistake was that I misread the graph. Includes is true if either floors > 10 OR bedrooms = 3 so it should be option A"
   ]
  },
  {
   "cell_type": "markdown",
   "metadata": {},
   "source": [
    "<img src=\"../_notebooks/image/Q43.png\" alt=\"CB\" style=\"width:500px;height:300px\">"
   ]
  },
  {
   "cell_type": "markdown",
   "metadata": {},
   "source": [
    "Question 43:\n",
    "- The amount of steps is actually number of items squared, so the program would actually run in a reasonable amount of time as long as the number of items isn't too high (I said it would run in a unreasonable time)"
   ]
  },
  {
   "cell_type": "markdown",
   "metadata": {},
   "source": [
    "<img src=\"../_notebooks/image/Q47.png\" alt=\"CB\" style=\"width:500px;height:300px\">"
   ]
  },
  {
   "cell_type": "markdown",
   "metadata": {},
   "source": [
    "Question 47:\n",
    "- The problem was that I didn't understand cryptography. I said that they would need the sender's private key, but thats not true for public key cryptrography. Instead the message is sent with the user's public key and received with the receipients private key"
   ]
  },
  {
   "cell_type": "markdown",
   "metadata": {},
   "source": [
    "The rest of the corrections are about non conceptual mistakes "
   ]
  },
  {
   "cell_type": "markdown",
   "metadata": {},
   "source": [
    "<img src=\"../_notebooks/image/Q22.png\" alt=\"CB\" style=\"width:500px;height:300px\">"
   ]
  },
  {
   "cell_type": "markdown",
   "metadata": {},
   "source": [
    "Question 22:\n",
    "- I accidently mixed up total and count. Total is the total number of days in that month, and count is the total number of hot days in that month. The correct answer would be if counter > 0.5 total because that means that over half the days that month were over 90 degrees"
   ]
  },
  {
   "cell_type": "markdown",
   "metadata": {},
   "source": [
    "<img src=\"../_notebooks/image/Q31.png\" alt=\"CB\" style=\"width:500px;height:300px\">"
   ]
  },
  {
   "cell_type": "markdown",
   "metadata": {},
   "source": [
    "Question 31:\n",
    "- I didn't realize that the first program gets to the gray box diagnally, so both are correct."
   ]
  },
  {
   "cell_type": "markdown",
   "metadata": {},
   "source": [
    "<img src=\"../_notebooks/image/Q52.png\" alt=\"CB\" style=\"width:500px;height:300px\">"
   ]
  },
  {
   "cell_type": "markdown",
   "metadata": {},
   "source": [
    "Queston 52:\n",
    "- I actually got the question right but I guess I just misclicked. Option 1 is correct because you cannot find the palindromes if they are all just a single letter when shortened"
   ]
  },
  {
   "cell_type": "markdown",
   "metadata": {},
   "source": [
    "<img src=\"../_notebooks/image/Q56.png\" alt=\"CB\" style=\"width:500px;height:300px\">"
   ]
  },
  {
   "cell_type": "markdown",
   "metadata": {},
   "source": [
    "Question 56:\n",
    "- For this question I recognized that it was only finding odd numbers but didn't remember the fact that it is +2 ten times, so it would display 1-19 not 1-9."
   ]
  },
  {
   "cell_type": "markdown",
   "metadata": {},
   "source": [
    "<img src=\"../_notebooks/image/Q66.png\" alt=\"CB\" style=\"width:500px;height:300px\">"
   ]
  },
  {
   "cell_type": "markdown",
   "metadata": {},
   "source": [
    "Question 66:\n",
    "- I sort of just jumped into the problem without thinking much. The program is considering the first value of the list as the minimum and the next value that is lower is the new minimum. This doesn't take into account the fact that the lists are not in order, so C and D return values that are smaller than the true minimum of the list"
   ]
  },
  {
   "cell_type": "markdown",
   "metadata": {},
   "source": [
    "Extra Credit:\n",
    "- <a href=\"https://github.com/Cosmic-Carnage/Issues/issues/33\">First group</a>\n",
    "- <a href=\"https://github.com/monke7769/passion/issues/6\">Second group</a>\n",
    "- <a href=\"https://github.com/JoshThinh/Asian-United-Frontend/issues/1\">Third Group</a>"
   ]
  },
  {
   "cell_type": "markdown",
   "metadata": {},
   "source": [
    "## Reflection\n",
    "I came into this class with little to no coding experience. At first, it felt like I was trapped in a maze with no idea of how to get out. However as the weeks rolled by, I started to navigate through this maze with the aid of my teachers, classmates, and friends and my knowledge slowly started to grow. Over the past almost 12 weeks, I've found myself starting to get over the learning curve and make my way though this maze. Now that I'm approaching the end, I know that there will be more challenges in the next trimester of this class, but I am ready to tackle them as a stronger, more resilient person than I was this summer. This experience has been super rewarding for me and I can only thank the people who have supported me throughout this journey. I feel nothing but anticipation and excitement for the next trimester of this class, and I hope that I can finish this year as a fully fledged coder ready to take on CSA."
   ]
  }
 ],
 "metadata": {
  "language_info": {
   "name": "python"
  }
 },
 "nbformat": 4,
 "nbformat_minor": 2
}
