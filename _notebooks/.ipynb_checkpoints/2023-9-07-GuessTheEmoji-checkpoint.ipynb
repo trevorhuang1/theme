{
 "cells": [
  {
   "cell_type": "markdown",
   "metadata": {},
   "source": [
    "%%markdown"
   ]
  },
  {
   "cell_type": "markdown",
   "metadata": {},
   "source": [
    "---\n",
    "toc: true\n",
    "comments: true\n",
    "layout: post\n",
    "title: Week 3\n",
    "description: Math Quiz\n",
    "type: hacks\n",
    "courses: { compsci: {week: 3} }\n",
    "---"
   ]
  },
  {
   "cell_type": "code",
   "execution_count": null,
   "metadata": {},
   "outputs": [
    {
     "name": "stdout",
     "output_type": "stream",
     "text": [
      "Guess the movie represented by these emojis:\n",
      "🧙‍♂️📚\n",
      "Your guess: Harry Potter\n",
      "Congratulations! You guessed it right.\n",
      "Do you want to play again? (yes/no): yes\n",
      "Guess the movie represented by these emojis:\n",
      "🧙‍♂️📚\n",
      "Your guess: Hrryn potter\n",
      "Sorry, the correct answer was Harry Potter.\n"
     ]
    }
   ],
   "source": [
    "#!pip install emoji\n",
    "from emoji import emojize\n",
    "import random\n",
    "\n",
    "# Define a dictionary with emojis as keys and movies as values\n",
    "emojis_movies = {\n",
    "    \"🦁👑\": \"The Lion King\",\n",
    "    \"🌊🐟\": \"Finding Nemo\",\n",
    "    \"🧙‍♂️📚\": \"Harry Potter\",\n",
    "    \"🍫🏭\": \"Willy Wonka and the Chocolate Factory\",\n",
    "    \"🟢👽\": \"Toy Story\",\n",
    "    \"🦸‍♂️🦇\": \"Batman\",\n",
    "}\n",
    "\n",
    "def select_random_emoji():\n",
    "    emoji = random.choice(list(emojis_movies.keys()))\n",
    "    return emoji\n",
    "\n",
    "def play_game():\n",
    "    emoji = select_random_emoji()\n",
    "    print(\"Guess the movie represented by these emojis:\")\n",
    "    print(emoji)\n",
    "    guess = input(\"Your guess: \")\n",
    "\n",
    "    if guess == emojis_movies[emoji]:\n",
    "        print(\"Congratulations! You guessed it right.\")\n",
    "    else:\n",
    "        print(f\"Sorry, the correct answer was {emojis_movies[emoji]}.\")\n",
    "    \n",
    "    return guess\n",
    "\n",
    "# Add a while loop to repeat the game\n",
    "while True:\n",
    "    guess = play_game()\n",
    "    play_again = input(\"Do you want to play again? (yes/no): \")\n",
    "    if play_again.lower() != 'yes':\n",
    "        break"
   ]
  },
  {
   "cell_type": "code",
   "execution_count": null,
   "metadata": {},
   "outputs": [],
   "source": []
  }
 ],
 "metadata": {
  "kernelspec": {
   "display_name": "Python 3 (ipykernel)",
   "language": "python",
   "name": "python3"
  },
  "language_info": {
   "codemirror_mode": {
    "name": "ipython",
    "version": 3
   },
   "file_extension": ".py",
   "mimetype": "text/x-python",
   "name": "python",
   "nbconvert_exporter": "python",
   "pygments_lexer": "ipython3",
   "version": "3.10.12"
  }
 },
 "nbformat": 4,
 "nbformat_minor": 2
}
