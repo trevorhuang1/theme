{
 "cells": [
  {
   "cell_type": "markdown",
   "metadata": {},
   "source": [
    "---\n",
    "layout: post\n",
    "hide: True\n",
    "title: Basics of HTML Guide\n",
    "description: An introduction to basic HTML, and resources to learn more.\n",
    "type: hacks\n",
    "permalink: /basics/html\n",
    "---"
   ]
  },
  {
   "cell_type": "raw",
   "metadata": {
    "vscode": {
     "languageId": "html"
    }
   },
   "source": [
    "{% include nav_basics.html %}"
   ]
  },
  {
   "cell_type": "markdown",
   "metadata": {},
   "source": [
    "\n",
    "# How does HTML work?\n",
    "Similar function to Markdown, syntax defines how stuff should be displayed\n",
    "- HTML is based on beginning and closing tags `<tagname>content</tagname>`\n",
    "  - Note the \"/\" on the ending or closing tag of the pair"
   ]
  },
  {
   "cell_type": "markdown",
   "metadata": {},
   "source": [
    "## Compare markdown to html below\n",
    "This below example shows comparison of a [heading](https://www.w3schools.com/html/html_headings.asp) and [paragraph](https://www.w3schools.com/html/html_paragraphs.asp).  Click on links to see many more HTML examples."
   ]
  },
  {
   "cell_type": "code",
   "execution_count": 8,
   "metadata": {},
   "outputs": [
    {
     "data": {
      "text/markdown": [
       "\n",
       "### Markdown: This is a Heading\n",
       "\n",
       "This is a paragraph\n"
      ],
      "text/plain": [
       "<IPython.core.display.Markdown object>"
      ]
     },
     "metadata": {},
     "output_type": "display_data"
    }
   ],
   "source": [
    "%%markdown\n",
    "\n",
    "### Markdown: This is a Heading\n",
    "\n",
    "This is a paragraph\n"
   ]
  },
  {
   "cell_type": "code",
   "execution_count": 9,
   "metadata": {
    "vscode": {
     "languageId": "html"
    }
   },
   "outputs": [
    {
     "data": {
      "text/html": [
       "\n",
       "<h3>HTML: This is a Heading</h3>\n",
       "<p>This is a paragraph.</p>\n"
      ],
      "text/plain": [
       "<IPython.core.display.HTML object>"
      ]
     },
     "metadata": {},
     "output_type": "display_data"
    }
   ],
   "source": [
    "%%html\n",
    "\n",
    "<h3>HTML: This is a Heading</h3>\n",
    "<p>This is a paragraph.</p>"
   ]
  },
  {
   "cell_type": "markdown",
   "metadata": {},
   "source": [
    "# Attributes\n",
    "- Learn about [attributes](https://www.w3schools.com/html/html_attributes.asp) \n",
    "- Tags can have additional info in the form of attributes\n",
    "- Attributes usually come in name/value pairs like: name=\"value\"\n",
    "\n",
    "```html\n",
    "<tagname attribute_name=\"attribute_value\" another_attribute=\"another_value\">inner html text</tagname>\n",
    "```\n",
    "\n",
    "- href example with attribute for web link and inner html to describe link\n",
    "\n",
    "```html\n",
    "<a href=\"https://www.w3schools.com/html/default.asp\">Visit W3Schools HTML Page</a>\n",
    "```"
   ]
  },
  {
   "cell_type": "markdown",
   "metadata": {},
   "source": [
    "## Sample Markdown vs HTML Tags\n",
    "Image Tag - Markdown\n",
    "\n",
    "```md\n",
    "![describe image](link to image)\n",
    "```\n",
    "\n",
    "Image Tag - HTML\n",
    "\n",
    "```html\n",
    "<!-- no content so no end tag, width/height is optional (in pixels) -->\n",
    "<img alt=\"describe image\" src=\"link to image\" width=\"100\" height=\"200\">\n",
    "```\n",
    "\n",
    "Link Tag - Markdown\n",
    "\n",
    "```md\n",
    "[link text](link)\n",
    "```\n",
    "\n",
    "Link Tag - HTML\n",
    "\n",
    "```html\n",
    "<a href=\"link\">link text</a>\n",
    "```\n",
    "\n",
    "Bolded Text - Markdown\n",
    "\n",
    "```md\n",
    "**Bolded Text**\n",
    "```\n",
    "\n",
    "Bolded Text - HTML\n",
    "\n",
    "```md\n",
    "<strong>Bolded Text</strong>\n",
    "```\n",
    "\n",
    "Italic Text - Markdown\n",
    "\n",
    "```md\n",
    "*Italic Text*\n",
    "```\n",
    "\n",
    "Italic Text - HTML\n",
    "\n",
    "```md\n",
    "<i>Italic Text</i>\n",
    "```"
   ]
  },
  {
   "cell_type": "markdown",
   "metadata": {},
   "source": [
    "# More tags (not really in markdown)\n",
    "P tag (just represeants a paragraph/normal text)\n",
    "\n",
    "```html\n",
    "<p>This is a paragraph</p>\n",
    "```\n",
    "\n",
    "Button\n",
    "\n",
    "```html\n",
    "<button>some button text</button>\n",
    "```\n",
    "\n",
    "Div (groups together related content)\n",
    "\n",
    "```html\n",
    "<!-- first information -->\n",
    "<div>\n",
    "    <!-- notice how tags can be put INSIDE eachother -->\n",
    "    <p>This is the first paragarph of section 1</p>\n",
    "    <p>This is the second paragraph of section 1</p>\n",
    "</div>\n",
    "\n",
    "<!-- second information -->\n",
    "<div>\n",
    "    <!-- notice how tags can be put INSIDE eachother -->\n",
    "    <p>This is the first paragarph of section 2</p>\n",
    "    <p>This is the second paragraph of section 2</p>\n",
    "</div>\n",
    "```\n",
    "\n"
   ]
  },
  {
   "cell_type": "markdown",
   "metadata": {},
   "source": [
    "# Resources\n",
    "- https://www.w3schools.com/html/default.asp\n",
    "- I will show a demo of how to find information on this website"
   ]
  },
  {
   "cell_type": "markdown",
   "metadata": {},
   "source": [
    "# HTML Hacks\n",
    "- Below is a wireframe for an HTML element you will create. A wireframe is a rough visual representation of HTML elements on a page and isn't necessarily to scale or have the exact styling that the final HTML will have. Using the syntax above, try to create an HTML snippet that corresponds to the below wireframe.\n",
    "- The \"a tags\" can contain any links that you want\n",
    "\n",
    "![wireframe for html hacks]({{ site.baseurl }}/images/wireframe.png)"
   ]
  },
  {
   "cell_type": "code",
   "execution_count": 1,
   "metadata": {
    "vscode": {
     "languageId": "html"
    }
   },
   "outputs": [
    {
     "data": {
      "text/html": [
       "\n",
       "<html>\n",
       "  <body>\n",
       "    <header>\n",
       "      <div id=\"titles\">\n",
       "        <h2>Demo Website</h2>\n",
       "        <h4>A website to host coding projects.</h4>\n",
       "      </div>\n",
       "      \n",
       "    </header>\n",
       "\n",
       "    <!--paragraph tags-->\n",
       "    <p>\n",
       "      <div class=\"text\">\n",
       "        <span class=\"paragraph\" size=1>This is a sample paragraph</span><br>\n",
       "        <span class=\"paragraph\"></span><br>\n",
       "        <span class=\"sentence\" size=2>This is a sentence.</span>\n",
       "        <br>\n",
       "        <button id=\"random-button\">Random button</button>\n",
       "      </div>\n",
       "    </p>\n",
       "\n",
       "    <p>\n",
       "      <div>\n",
       "        <a href=\"https://www.w3schools.com/\">W3 Schools</a>\n",
       "        <a href=\"https://chat.openai.com\">ChatGPT</a>\n",
       "      </div> \n",
       "    </p>\n",
       "    <img src=\"https://upload.wikimedia.org/wikipedia/commons/thumb/2/2f/Google_2015_logo.svg/368px-Google_2015_logo.svg.png\"/>\n",
       "    <br>\n",
       "    <img src=\"https://external-content.duckduckgo.com/iu/?u=https%3A%2F%2Fwww.computertechreviews.com%2Fwp-content%2Fuploads%2F2020%2F05%2FModern-Web-Design-Trends-1200x675.jpg&f=1&nofb=1\"/>\n",
       "    <br>\n",
       "    <br>\n",
       "    \n",
       "  </body>\n",
       "</html>\n"
      ],
      "text/plain": [
       "<IPython.core.display.HTML object>"
      ]
     },
     "metadata": {},
     "output_type": "display_data"
    }
   ],
   "source": [
    "%%html\n",
    "\n",
    "<html>\n",
    "  <body>\n",
    "    <header>\n",
    "      <div id=\"titles\">\n",
    "        <h2>Demo Website</h2>\n",
    "        <h4>A website to host coding projects.</h4>\n",
    "      </div>\n",
    "      \n",
    "    </header>\n",
    "\n",
    "    <!--paragraph tags-->\n",
    "    <p>\n",
    "      <div class=\"text\">\n",
    "        <span class=\"paragraph\" size=1>This is a sample paragraph</span><br>\n",
    "        <span class=\"paragraph\"></span><br>\n",
    "        <span class=\"sentence\" size=2>This is a sentence.</span>\n",
    "        <br>\n",
    "        <button id=\"random-button\">Random button</button>\n",
    "      </div>\n",
    "    </p>\n",
    "\n",
    "    <p>\n",
    "      <div>\n",
    "        <a href=\"https://www.w3schools.com/\">W3 Schools</a>\n",
    "        <a href=\"https://chat.openai.com\">ChatGPT</a>\n",
    "      </div> \n",
    "    </p>\n",
    "    <img src=\"https://upload.wikimedia.org/wikipedia/commons/thumb/2/2f/Google_2015_logo.svg/368px-Google_2015_logo.svg.png\"/>\n",
    "    <br>\n",
    "    <img src=\"https://external-content.duckduckgo.com/iu/?u=https%3A%2F%2Fwww.computertechreviews.com%2Fwp-content%2Fuploads%2F2020%2F05%2FModern-Web-Design-Trends-1200x675.jpg&f=1&nofb=1\"/>\n",
    "    <br>\n",
    "    <br>\n",
    "    \n",
    "  </body>\n",
    "</html>"
   ]
  },
  {
   "cell_type": "code",
   "execution_count": 2,
   "metadata": {
    "vscode": {
     "languageId": "javascript"
    }
   },
   "outputs": [
    {
     "data": {
      "application/javascript": "\nvar randomWordList = [\n    'appreciation',\n    'baking',\n    'banquet',\n    'cards',\n    'celebration',\n    'cooking',\n    'family',\n    'feast',\n    'festival',\n    'football',\n    'gathering',\n    'get-together',\n    'gratitude',\n    'harvest',\n    'overeating',\n    'travel',\n    'autumn',\n    'candles',\n    'centerpiece',\n    'chrysanthemums',\n    'corncob wreaths',\n    'cornucopia',\n    'dried ears of corn',\n    'fall floral arrangements',\n    'fall wreath',\n    'Native American figurines',\n    'leaves',\n    'pilgrim figurines',\n    'pilgrim hats',\n    'pumpkins',\n    'scarecrows',\n    'turkey figurines',\n    'acorn squash',\n    'apple cider',\n    'apple pie',\n    'biscuits',\n    'butternut squash',\n    'candied carrots',\n    'candied yams',\n    'corn',\n    'corn casserole',\n    'corn on the cob',\n    'corn salad',\n    'cornbread',\n    'cranberry sauce',\n    'creamed corn',\n    'dressing',\n    'gravy',\n    'green bean casserole',\n    'ham',\n    'hash browns',\n    'hubbard squash',\n    'macaroni and cheese',\n    'macaroni salad',\n    'pumpkin bread',\n    'pumpkin pie',\n    'roast pumpkin',\n    'rolls',\n    'stuffing',\n    'sweet potato hash',\n    'sweet potatoes',\n    'three-bean salad',\n    'turkey',\n  ];\n  \n  function punctuationGenerator() {\n    var punctuation = [\".\", \"?\", \"!\"];\n    var punctuationSelector = Math.floor(Math.random() * 3);\n    return punctuation[punctuationSelector];\n  }\n  \n  function middleGenerator() { //Next time we can combine this with the function above\n    var punctuation = [\", \", \": \", \"; \", \" - \"];\n    var punctuationSelector = Math.floor(Math.random() * 4);\n    return punctuation[punctuationSelector];\n  }\n  \n  function tenPercentChance() {\n    var tenPercent = Math.floor(Math.random() * 10);\n    return tenPercent;\n  }\n  \n  function sentenceLength() {\n    var numberOfWords = Math.floor(Math.random() * (10 - 7) + 7)\n    return numberOfWords;\n  }\n  \n  //Generates one sentence.\n  function sentenceGenerator(sentenceSize) {\n    var randomSentence = \"\";\n    if (sentenceSize == null) {\n      sentenceSize = sentenceLength();\n      // console.log(sentenceSize);\n    }\n      \n    for (var i = 0; i < sentenceSize; i++) {\n      var wordSelector = Math.floor(Math.random() * randomWordList.length);\n      var word = randomWordList[wordSelector];\n      var seperator = \" \";\n      if (tenPercentChance() == \"0\"){\n              seperator = middleGenerator();\n      }\n      if (i == sentenceSize - 1) { //last word\n        randomSentence += word;\n      }\n      else if (i == 0){ //first word\n        randomSentence += word[0].toUpperCase() + word.slice(1) + seperator;\n      }\n      else {\n        randomSentence += word + seperator;\n      }\n    }\n    //return the sentence\n    return randomSentence + punctuationGenerator() + \" \";\n  }\n  \n  //Generates a paragraph made up of sentences.\n  function paragraphGenerator(paragraphSize) {\n    //TODO: This should be using the sentenceGenerator we made to create the sentences for the paragraph.\n    var randomParagraph = \"\";\n    if (paragraphSize == null) {\n      paragraphSize = Math.floor(Math.random() * (5 - 3) + 3);\n    }\n    // console.log(paragraphSize);\n    for (var i = 0; i < paragraphSize; i++) {\n      randomParagraph += sentenceGenerator();\n    }\n    //return the paragraph\n    return randomParagraph;\n  }\n  \n  // console.log(\"Sentence: \" + sentenceGenerator());\n  // console.log(\"Paragraph: \" + paragraphGenerator(10));\n  \n  //document: variable that points to the HTML that is using this javascript\n  //querySelectorAll(): finds all elements in the HTML that match the search question\n  //forEach(): do something for everything in the list\n  //\n  document.querySelectorAll(\".sentence\").forEach(sentence => sentence.innerText = sentenceGenerator(sentence.getAttribute(\"size\")));\n  \n  document.querySelectorAll(\".paragraph\").forEach(paragraph => paragraph.innerText = paragraphGenerator(paragraph.getAttribute(\"size\")));\n",
      "text/plain": [
       "<IPython.core.display.Javascript object>"
      ]
     },
     "metadata": {},
     "output_type": "display_data"
    }
   ],
   "source": [
    "%%js\n",
    "\n",
    "var randomWordList = [\n",
    "    'appreciation',\n",
    "    'baking',\n",
    "    'banquet',\n",
    "    'cards',\n",
    "    'celebration',\n",
    "    'cooking',\n",
    "    'family',\n",
    "    'feast',\n",
    "    'festival',\n",
    "    'football',\n",
    "    'gathering',\n",
    "    'get-together',\n",
    "    'gratitude',\n",
    "    'harvest',\n",
    "    'overeating',\n",
    "    'travel',\n",
    "    'autumn',\n",
    "    'candles',\n",
    "    'centerpiece',\n",
    "    'chrysanthemums',\n",
    "    'corncob wreaths',\n",
    "    'cornucopia',\n",
    "    'dried ears of corn',\n",
    "    'fall floral arrangements',\n",
    "    'fall wreath',\n",
    "    'Native American figurines',\n",
    "    'leaves',\n",
    "    'pilgrim figurines',\n",
    "    'pilgrim hats',\n",
    "    'pumpkins',\n",
    "    'scarecrows',\n",
    "    'turkey figurines',\n",
    "    'acorn squash',\n",
    "    'apple cider',\n",
    "    'apple pie',\n",
    "    'biscuits',\n",
    "    'butternut squash',\n",
    "    'candied carrots',\n",
    "    'candied yams',\n",
    "    'corn',\n",
    "    'corn casserole',\n",
    "    'corn on the cob',\n",
    "    'corn salad',\n",
    "    'cornbread',\n",
    "    'cranberry sauce',\n",
    "    'creamed corn',\n",
    "    'dressing',\n",
    "    'gravy',\n",
    "    'green bean casserole',\n",
    "    'ham',\n",
    "    'hash browns',\n",
    "    'hubbard squash',\n",
    "    'macaroni and cheese',\n",
    "    'macaroni salad',\n",
    "    'pumpkin bread',\n",
    "    'pumpkin pie',\n",
    "    'roast pumpkin',\n",
    "    'rolls',\n",
    "    'stuffing',\n",
    "    'sweet potato hash',\n",
    "    'sweet potatoes',\n",
    "    'three-bean salad',\n",
    "    'turkey',\n",
    "  ];\n",
    "  \n",
    "  function punctuationGenerator() {\n",
    "    var punctuation = [\".\", \"?\", \"!\"];\n",
    "    var punctuationSelector = Math.floor(Math.random() * 3);\n",
    "    return punctuation[punctuationSelector];\n",
    "  }\n",
    "  \n",
    "  function middleGenerator() { //Next time we can combine this with the function above\n",
    "    var punctuation = [\", \", \": \", \"; \", \" - \"];\n",
    "    var punctuationSelector = Math.floor(Math.random() * 4);\n",
    "    return punctuation[punctuationSelector];\n",
    "  }\n",
    "  \n",
    "  function tenPercentChance() {\n",
    "    var tenPercent = Math.floor(Math.random() * 10);\n",
    "    return tenPercent;\n",
    "  }\n",
    "  \n",
    "  function sentenceLength() {\n",
    "    var numberOfWords = Math.floor(Math.random() * (10 - 7) + 7)\n",
    "    return numberOfWords;\n",
    "  }\n",
    "  \n",
    "  //Generates one sentence.\n",
    "  function sentenceGenerator(sentenceSize) {\n",
    "    var randomSentence = \"\";\n",
    "    if (sentenceSize == null) {\n",
    "      sentenceSize = sentenceLength();\n",
    "      // console.log(sentenceSize);\n",
    "    }\n",
    "      \n",
    "    for (var i = 0; i < sentenceSize; i++) {\n",
    "      var wordSelector = Math.floor(Math.random() * randomWordList.length);\n",
    "      var word = randomWordList[wordSelector];\n",
    "      var seperator = \" \";\n",
    "      if (tenPercentChance() == \"0\"){\n",
    "              seperator = middleGenerator();\n",
    "      }\n",
    "      if (i == sentenceSize - 1) { //last word\n",
    "        randomSentence += word;\n",
    "      }\n",
    "      else if (i == 0){ //first word\n",
    "        randomSentence += word[0].toUpperCase() + word.slice(1) + seperator;\n",
    "      }\n",
    "      else {\n",
    "        randomSentence += word + seperator;\n",
    "      }\n",
    "    }\n",
    "    //return the sentence\n",
    "    return randomSentence + punctuationGenerator() + \" \";\n",
    "  }\n",
    "  \n",
    "  //Generates a paragraph made up of sentences.\n",
    "  function paragraphGenerator(paragraphSize) {\n",
    "    //TODO: This should be using the sentenceGenerator we made to create the sentences for the paragraph.\n",
    "    var randomParagraph = \"\";\n",
    "    if (paragraphSize == null) {\n",
    "      paragraphSize = Math.floor(Math.random() * (5 - 3) + 3);\n",
    "    }\n",
    "    // console.log(paragraphSize);\n",
    "    for (var i = 0; i < paragraphSize; i++) {\n",
    "      randomParagraph += sentenceGenerator();\n",
    "    }\n",
    "    //return the paragraph\n",
    "    return randomParagraph;\n",
    "  }\n",
    "  \n",
    "  // console.log(\"Sentence: \" + sentenceGenerator());\n",
    "  // console.log(\"Paragraph: \" + paragraphGenerator(10));\n",
    "  \n",
    "  //document: variable that points to the HTML that is using this javascript\n",
    "  //querySelectorAll(): finds all elements in the HTML that match the search question\n",
    "  //forEach(): do something for everything in the list\n",
    "  //\n",
    "  document.querySelectorAll(\".sentence\").forEach(sentence => sentence.innerText = sentenceGenerator(sentence.getAttribute(\"size\")));\n",
    "  \n",
    "  document.querySelectorAll(\".paragraph\").forEach(paragraph => paragraph.innerText = paragraphGenerator(paragraph.getAttribute(\"size\")));"
   ]
  },
  {
   "cell_type": "code",
   "execution_count": null,
   "metadata": {
    "vscode": {
     "languageId": "javascript"
    }
   },
   "outputs": [],
   "source": []
  }
 ],
 "metadata": {
  "kernelspec": {
   "display_name": "Python 3",
   "language": "python",
   "name": "python3"
  },
  "language_info": {
   "codemirror_mode": {
    "name": "ipython",
    "version": 3
   },
   "file_extension": ".py",
   "mimetype": "text/x-python",
   "name": "python",
   "nbconvert_exporter": "python",
   "pygments_lexer": "ipython3",
   "version": "3.10.12"
  },
  "orig_nbformat": 4
 },
 "nbformat": 4,
 "nbformat_minor": 2
}
