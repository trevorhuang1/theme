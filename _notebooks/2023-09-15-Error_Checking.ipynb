{
 "cells": [
  {
   "cell_type": "markdown",
   "metadata": {},
   "source": [
    "---\n",
    "comments: True\n",
    "layout: post\n",
    "title: Error Checking\n",
    "description: A program used to check if another program has any running errors.\n",
    "type: hacks\n",
    "courses: {compsci: {week: 4}}\n",
    "---\n",
    "\n",
    "This program checks if a function has any syntax errors or not. Unfortunately, logic errors are much more difficult to catch, so for now this function does syntax errors."
   ]
  },
  {
   "cell_type": "code",
   "execution_count": 60,
   "metadata": {},
   "outputs": [
    {
     "name": "stdout",
     "output_type": "stream",
     "text": [
      "--------------------------------------------------\n",
      "Testing function: function_with_error()\n",
      "error occured while testing function_with_error()\n",
      "--------------------------------------------------\n",
      "Testing function: function_without_error()\n",
      "123123\n",
      "No errors occured in function_without_error()!\n",
      "Output is above.\n"
     ]
    }
   ],
   "source": [
    "# Cannot concatenate int and string types, will give error\n",
    "def function_with_error():\n",
    "    number = 123\n",
    "    string = '123'\n",
    "    print(number + string)\n",
    "\n",
    "# function will print 123123\n",
    "def function_without_error():\n",
    "    string = '123'\n",
    "    string2 = '123'\n",
    "    print(string + string2)\n",
    "\n",
    "def test_function(func):\n",
    "    print('--------------------------------------------------')\n",
    "    print('Testing function: ' + func)\n",
    "    # try tests function, if error occurs will run code in except\n",
    "    try: \n",
    "        eval(func)\n",
    "    except:\n",
    "        # print error occured if error occurs\n",
    "        print('error occured while testing ' + func)\n",
    "    else:\n",
    "        print('No errors occured in ' + func + '!')\n",
    "        print('Output is above.')\n",
    "\n",
    "test_function('function_with_error()')\n",
    "test_function('function_without_error()')"
   ]
  },
  {
   "cell_type": "markdown",
   "metadata": {},
   "source": [
    "This is nice and all, being able to tell when an error occurs, but knowing that an error exists isn't very useful, we would find that out either way from attempting to run it. A nice step would be the print the type of error that occurs. This is done as shown below"
   ]
  },
  {
   "cell_type": "code",
   "execution_count": 61,
   "metadata": {},
   "outputs": [
    {
     "name": "stdout",
     "output_type": "stream",
     "text": [
      "--------------------------------------------------\n",
      "Testing function: function_with_error()\n",
      "The following error occured while testing function_with_error(): \n",
      "unsupported operand type(s) for +: 'int' and 'str'\n",
      "--------------------------------------------------\n",
      "Testing function: function_with_error2()\n",
      "The following error occured while testing function_with_error2(): \n",
      "division by zero\n"
     ]
    }
   ],
   "source": [
    "# Cannot concatenate int and string types, will give error\n",
    "def function_with_error():\n",
    "    number = 123\n",
    "    string = '123'\n",
    "    print(number + string)\n",
    "\n",
    "# function will print 123123\n",
    "def function_with_error2():\n",
    "    number = 12\n",
    "    number2 = 0\n",
    "    print (number / number2)\n",
    "\n",
    "def test_function(func):\n",
    "    print('--------------------------------------------------')\n",
    "    print('Testing function: ' + func)\n",
    "    # try tests function, if error occurs will run code in except\n",
    "    try: \n",
    "        eval(func)\n",
    "    # store exception type in variable error\n",
    "    except Exception as error:\n",
    "        # print error occured if error occurs\n",
    "        print('The following error occured while testing ' + func + ': ')\n",
    "        print(error)\n",
    "    else:\n",
    "        print('No errors occured in ' + func + '!')\n",
    "        print('Output is above.')\n",
    "\n",
    "test_function('function_with_error()')\n",
    "test_function('function_with_error2()')"
   ]
  },
  {
   "cell_type": "markdown",
   "metadata": {},
   "source": [
    "Try and catch statements check errors well, but what about if and else statements? I decided to redo Kyle's code but this time with a larger emphasis on if and else statements to show how they work to catch errors. These work fine but I prefer try and except because they are a bit cleaner when catching errors as they require less lines of code."
   ]
  },
  {
   "cell_type": "code",
   "execution_count": 2,
   "metadata": {},
   "outputs": [
    {
     "name": "stdout",
     "output_type": "stream",
     "text": [
      "Please enter an integer between 1 and 100: -2\n",
      "Invalid input. Please enter a number between 1-100\n",
      "Please enter an integer between 1 and 100: 424\n",
      "Invalid input. Please enter a number between 1-100\n",
      "Please enter an integer between 1 and 100: 22\n",
      "You entered a valid number: 22\n"
     ]
    }
   ],
   "source": [
    "# Defines the function\n",
    "def get_valid_number():\n",
    "    while True:\n",
    "        user_input = input(\"Please enter an integer between 1 and 100: \")\n",
    "            # Checks if the input is a number with isdigit\n",
    "        if user_input.isdigit():\n",
    "            number = int(user_input)\n",
    "            # if between 1 and 100 then return the value\n",
    "            if 1 <= number <= 100:\n",
    "                return number\n",
    "            # checks if too large        \n",
    "            elif number > 100:\n",
    "                print(\"Invalid input. Please enter a number between 1-100\")\n",
    "            # checks if too small\n",
    "            elif number < 1:\n",
    "                print(\"Invalid input. Please enter a number between 1-100\")\n",
    "        # checks if negative\n",
    "        elif user_input[0] == \"-\":\n",
    "            print(\"Invalid input. Please enter a number between 1-100\")\n",
    "        # otherwise it is not a number\n",
    "        else:\n",
    "            print(\"Please enter an integer\")\n",
    "\n",
    "answer = get_valid_number()\n",
    "# if the end result is a number, then the code states it is valid\n",
    "if isinstance(answer, int):\n",
    "    print(f\"You entered a valid number: {answer}\")"
   ]
  }
 ],
 "metadata": {
  "kernelspec": {
   "display_name": "Python 3 (ipykernel)",
   "language": "python",
   "name": "python3"
  },
  "language_info": {
   "codemirror_mode": {
    "name": "ipython",
    "version": 3
   },
   "file_extension": ".py",
   "mimetype": "text/x-python",
   "name": "python",
   "nbconvert_exporter": "python",
   "pygments_lexer": "ipython3",
   "version": "3.10.12"
  }
 },
 "nbformat": 4,
 "nbformat_minor": 2
}
