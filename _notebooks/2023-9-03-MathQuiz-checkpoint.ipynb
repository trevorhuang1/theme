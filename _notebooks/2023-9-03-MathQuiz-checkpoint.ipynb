{
 "cells": [
  {
   "cell_type": "markdown",
   "metadata": {},
   "source": [
    "%%markdown"
   ]
  },
  {
   "cell_type": "markdown",
   "metadata": {},
   "source": [
    "---\n",
    "toc: true\n",
    "comments: true\n",
    "layout: post\n",
    "title: Week 3\n",
    "description: Math QUiz\n",
    "type: hacks\n",
    "courses: { compsci: {week: 3} }\n",
    "---"
   ]
  },
  {
   "cell_type": "code",
   "execution_count": 2,
   "metadata": {},
   "outputs": [
    {
     "ename": "ValueError",
     "evalue": "invalid literal for int() with base 10: ''",
     "output_type": "error",
     "traceback": [
      "\u001b[0;31m---------------------------------------------------------------------------\u001b[0m",
      "\u001b[0;31mValueError\u001b[0m                                Traceback (most recent call last)",
      "\u001b[0;32m/tmp/ipykernel_2904/3279772151.py\u001b[0m in \u001b[0;36m<module>\u001b[0;34m\u001b[0m\n\u001b[1;32m     17\u001b[0m \u001b[0;32mwhile\u001b[0m \u001b[0;32mTrue\u001b[0m\u001b[0;34m:\u001b[0m\u001b[0;34m\u001b[0m\u001b[0;34m\u001b[0m\u001b[0m\n\u001b[1;32m     18\u001b[0m     \u001b[0mrsp\u001b[0m \u001b[0;34m=\u001b[0m \u001b[0minput\u001b[0m\u001b[0;34m(\u001b[0m\u001b[0;34m\"Ready for a test? How many questions do you want to answer?\\n> \"\u001b[0m\u001b[0;34m)\u001b[0m\u001b[0;34m\u001b[0m\u001b[0;34m\u001b[0m\u001b[0m\n\u001b[0;32m---> 19\u001b[0;31m     \u001b[0;32mif\u001b[0m \u001b[0;34m(\u001b[0m\u001b[0mrsp\u001b[0m\u001b[0;34m.\u001b[0m\u001b[0misnumeric\u001b[0m \u001b[0;32mand\u001b[0m \u001b[0mint\u001b[0m\u001b[0;34m(\u001b[0m\u001b[0mrsp\u001b[0m\u001b[0;34m)\u001b[0m \u001b[0;34m>\u001b[0m \u001b[0;36m0\u001b[0m\u001b[0;34m)\u001b[0m\u001b[0;34m:\u001b[0m\u001b[0;34m\u001b[0m\u001b[0;34m\u001b[0m\u001b[0m\n\u001b[0m\u001b[1;32m     20\u001b[0m         \u001b[0mnumOfQuestions\u001b[0m \u001b[0;34m=\u001b[0m \u001b[0mint\u001b[0m\u001b[0;34m(\u001b[0m\u001b[0mrsp\u001b[0m\u001b[0;34m)\u001b[0m\u001b[0;34m\u001b[0m\u001b[0;34m\u001b[0m\u001b[0m\n\u001b[1;32m     21\u001b[0m         \u001b[0mrsp\u001b[0m \u001b[0;34m=\u001b[0m \u001b[0;32mNone\u001b[0m\u001b[0;34m\u001b[0m\u001b[0;34m\u001b[0m\u001b[0m\n",
      "\u001b[0;31mValueError\u001b[0m: invalid literal for int() with base 10: ''"
     ]
    }
   ],
   "source": [
    "from random import randint\n",
    "def Operation(A, B, op):\n",
    "    ans = 0\n",
    "    if (op == 0): ans = A+B\n",
    "    if (op == 1): ans = A-B\n",
    "    if (op == 2): ans = A*B\n",
    "    if (op == 3): ans = A//B\n",
    "    if (op == 4): ans = A**B\n",
    "    if (op == 5): ans = A%B\n",
    "    if (op == 6): ans = A&B\n",
    "    if (op == 7): ans = A|B\n",
    "    if (op == 8): ans = A^B\n",
    "    return ans\n",
    "rsp = None\n",
    "numOfQuestions = 0\n",
    "# How many questions in the test?\n",
    "while True:\n",
    "    rsp = input(\"Ready for a test? How many questions do you want to answer?\\n> \")\n",
    "    if (rsp.isnumeric and int(rsp) > 0):\n",
    "        numOfQuestions = int(rsp)\n",
    "        rsp = None\n",
    "        break\n",
    "key = {0: \"+\",\n",
    "        1: \"-\",\n",
    "        2: \"*\",\n",
    "        3: \"//\",\n",
    "        4: \"^\",\n",
    "        5: \"%\",\n",
    "        6: \"AND\",\n",
    "        7: \"OR\",\n",
    "        8: \"XOR\",\n",
    "        9: \"?\"}\n",
    "# Loop through questions\n",
    "numCorrect = 0\n",
    "for i in range(1, numOfQuestions+1):\n",
    "    op = 0\n",
    "    A = randint(1, 10)\n",
    "    B = randint(1, 10)\n",
    "    if (1 <= i <= 5):\n",
    "        op = randint(0, 3)\n",
    "    elif (6 <= i <= 10):\n",
    "        op = randint(0, 5)\n",
    "    elif (11 <= i <= 15):\n",
    "        op = randint(0, 8)\n",
    "    else:\n",
    "        op = 9\n",
    "    rsp = input(f\"Question {i}. What is {A} {key[op]} {B}?\\n> \")\n",
    "    if ((not rsp.strip(\"-\").isnumeric()) or op == 9):\n",
    "        print(\"Wrong! Not valid\")\n",
    "        continue\n",
    "    ans = Operation(A, B, op)\n",
    "    if (ans != int(rsp)):\n",
    "        print(f\"Wrong! The correct answer is {ans}.\")\n",
    "    else:\n",
    "        print(f\"Correct! The correct answer is {ans}\")\n",
    "        numCorrect += 1\n",
    "print(f\"You got {numCorrect}/{numOfQuestions} or %{numCorrect/numOfQuestions * 100}\")"
   ]
  }
 ],
 "metadata": {
  "kernelspec": {
   "display_name": "Python 3 (ipykernel)",
   "language": "python",
   "name": "python3"
  },
  "language_info": {
   "codemirror_mode": {
    "name": "ipython",
    "version": 3
   },
   "file_extension": ".py",
   "mimetype": "text/x-python",
   "name": "python",
   "nbconvert_exporter": "python",
   "pygments_lexer": "ipython3",
   "version": "3.10.12"
  }
 },
 "nbformat": 4,
 "nbformat_minor": 2
}
