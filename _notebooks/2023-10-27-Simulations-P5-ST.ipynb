{
 "cells": [
  {
   "cell_type": "markdown",
   "metadata": {},
   "source": [
    "---\n",
    "comments: true\n",
    "layout: post\n",
    "title: Simulations - Student Teach\n",
    "description: Student Lesson\n",
    "type: hacks\n",
    "courses: { compsci: {week: 10} }\n",
    "---"
   ]
  },
  {
   "cell_type": "markdown",
   "metadata": {},
   "source": [
    "## Simulations \n"
   ]
  },
  {
   "cell_type": "markdown",
   "metadata": {},
   "source": [
    "> A simulation is the use of a computer software to represent the dynamic responses of one system by the behaviour of another system modeled after it. A simulation uses a mathematical descriptions, or models, of a real system in the form of a computer program."
   ]
  },
  {
   "cell_type": "markdown",
   "metadata": {},
   "source": [
    "![simulation](https://www.simscale.com/wp-content/uploads/2022/11/dron-quadcopter-simulation.png)"
   ]
  },
  {
   "cell_type": "markdown",
   "metadata": {},
   "source": [
    "## College Board Essential Knowledge"
   ]
  },
  {
   "cell_type": "markdown",
   "metadata": {},
   "source": [
    "> Simulation are absractions of more complex objects or phenomena for a specific purpose \n",
    "\n",
    "- Mimic Real World Events\n",
    "- Allows investigation of phenomenons without contraints of the Real World\n",
    "- Helps you draw accurate inferences\n",
    "\n",
    "> Simulations utilize varying sets of values to reflect the changings states of a phenomenon\n",
    "\n",
    "- simulations can simplfly things for functionality\n",
    "- Simulations can contain bias from real world elements, that were chosen to be included or excluded\n",
    "\n",
    "> Simulations work best when the real world experemnts are too impractical or time consuming. For example, simulating how different cars behave when they crash, would be much better than crashng actual cars in the real world, which would be expensive and dangerous.\n",
    "\n",
    "<a href=\"https://ibb.co/f4jKcBY\"><img src=\"https://i.ibb.co/NZck4Q6/simulations-vs-experiments.png\" alt=\"simulations-vs-experiments\" border=\"0\"></a>\n"
   ]
  },
  {
   "cell_type": "markdown",
   "metadata": {},
   "source": [
    "## Rolling the Dice"
   ]
  },
  {
   "cell_type": "markdown",
   "metadata": {},
   "source": [
    "<a href=\"https://ibb.co/PGBhfPD\"><img src=\"https://i.ibb.co/XxmsvKY/craps-rolling-seven-7.jpg\" alt=\"craps-rolling-seven-7\" border=\"0\"></a>\n",
    "\n",
    "> Simulating something like a dice roll in real life would require accounting for things like: weight, flaws in design, thrust, and gravity.\n",
    "- KEEP IT SIMPLE! just use a random-number generator! Ignore minor causes of variablility"
   ]
  },
  {
   "cell_type": "markdown",
   "metadata": {},
   "source": [
    "## Random"
   ]
  },
  {
   "cell_type": "markdown",
   "metadata": {},
   "source": [
    "- \"Random\" is a built-in python function that allow the user to draw a random value from a set range.\n",
    "- A Random Number Generator (RNG) is a common simulation that selects a random value from an array.\n",
    "- The following code cell utilizes \"random\" to select a number from 1 to 100."
   ]
  },
  {
   "cell_type": "code",
   "execution_count": 1,
   "metadata": {},
   "outputs": [
    {
     "name": "stdout",
     "output_type": "stream",
     "text": [
      "42\n"
     ]
    }
   ],
   "source": [
    "#imports random module so we can use it in our code\n",
    "import random\n",
    "\n",
    "#sets variable random_number as a random number between 1 and 100\n",
    "random_number = random.randint(1, 100)\n",
    "\n",
    "#Printing out your random Number\n",
    "print(random_number)"
   ]
  },
  {
   "cell_type": "markdown",
   "metadata": {},
   "source": [
    "## More complex usage of \"random\"; Coin Toss Simulation"
   ]
  },
  {
   "cell_type": "code",
   "execution_count": 16,
   "metadata": {},
   "outputs": [
    {
     "name": "stdout",
     "output_type": "stream",
     "text": [
      "Number of Heads: 492\n",
      "Number of Tails: 508\n",
      "Heads Probability: {0.492}\n",
      "Tails Probability: {0.508}\n"
     ]
    }
   ],
   "source": [
    "import random\n",
    "def flip_coin():\n",
    "    return random.choice([\"Heads\", \"Tails\"])\n",
    "def coin_flip_simulation(num_flips):\n",
    "    heads_count = 0\n",
    "    tails_count = 0\n",
    "    for _ in range(num_flips):\n",
    "        result = flip_coin()\n",
    "        if result == \"Heads\":\n",
    "            heads_count += 1\n",
    "        else:\n",
    "            tails_count += 1\n",
    "    return heads_count, tails_count\n",
    "if __name__ == \"__main__\":\n",
    "    num_flips = 1000  #This is the number of coin flips you want to simulate\n",
    "    heads, tails = coin_flip_simulation(num_flips)\n",
    "    print(\"Number of Heads: \"+ str(heads))\n",
    "    print(\"Number of Tails: \" + str(tails))\n",
    "    print(\"Heads Probability: \"+ str({heads / num_flips}))\n",
    "    print(\"Tails Probability: \"+ str({tails / num_flips}))"
   ]
  },
  {
   "cell_type": "markdown",
   "metadata": {},
   "source": [
    "## Popcorn Hack #1"
   ]
  },
  {
   "cell_type": "markdown",
   "metadata": {},
   "source": [
    "Utilize \"random\" to create a basic simulation of a rolling TWO dice. Print the sum of both dice rolls. Remember to practice good syntax when naming your variables. "
   ]
  },
  {
   "cell_type": "code",
   "execution_count": 30,
   "metadata": {},
   "outputs": [
    {
     "name": "stdout",
     "output_type": "stream",
     "text": [
      "You rolled 6 and 6\n",
      "Your score is: 12\n"
     ]
    }
   ],
   "source": [
    "import random\n",
    "\n",
    "#Code, Code, Code\n",
    "dice1 = random.randint(1, 6)\n",
    "dice2 = random.randint(1, 6)\n",
    "print(\"You rolled\",dice1,\"and\",dice2)\n",
    "print(\"Your score is:\",(dice1+dice2))"
   ]
  },
  {
   "cell_type": "markdown",
   "metadata": {},
   "source": [
    "## Algorithms\n",
    ">Simulations often utilize algorithms and equations to perform tasks because simulations don't always have the same output\n",
    "- the output of a simulation depends on the input\n",
    "\n",
    ">An algorithm is a finite sequence of instructions used to solve problems or perform computations. \n",
    "- commonly used alongside functions\n"
   ]
  },
  {
   "cell_type": "markdown",
   "metadata": {},
   "source": [
    "## Example Algorithm in a function"
   ]
  },
  {
   "cell_type": "code",
   "execution_count": 42,
   "metadata": {},
   "outputs": [
    {
     "data": {
      "text/plain": [
       "7"
      ]
     },
     "execution_count": 42,
     "metadata": {},
     "output_type": "execute_result"
    }
   ],
   "source": [
    "#Defining Function\n",
    "def algorithm(input):\n",
    "    \n",
    "    #Manipulating input and preparing it for the output.  \n",
    "    output = input+2\n",
    "    \n",
    "    #Return the output\n",
    "    return output\n",
    "\n",
    "#Call the Function to start the algorithm\n",
    "algorithm(5)\n",
    "    "
   ]
  },
  {
   "cell_type": "markdown",
   "metadata": {},
   "source": [
    "## Mathematics\n",
    "- Math can also prove to be very useful in certain types of situations.\n",
    "- Commonly used along with Algorithms when simulating various things\n",
    "\n",
    "![math](https://pythontutorialhome.files.wordpress.com/2019/05/image-2.png)\n"
   ]
  },
  {
   "cell_type": "markdown",
   "metadata": {},
   "source": [
    "## Popcorn Hack #2"
   ]
  },
  {
   "cell_type": "markdown",
   "metadata": {},
   "source": [
    "Simulate how long an object will fall for using an algorithm, with user-inputed variables for height dropped. Use the following formula as a reference.\n",
    "\n",
    "![gravity ](https://hepweb.ucsd.edu/ph110b/110b_notes/img272.png)\n",
    "\n",
    "- t = time (output)\n",
    "- h = height dropped from (input)\n",
    "- g = constant (given)"
   ]
  },
  {
   "cell_type": "code",
   "execution_count": 39,
   "metadata": {},
   "outputs": [
    {
     "name": "stdout",
     "output_type": "stream",
     "text": [
      "The object fell for 1.0096375546923044 seconds\n"
     ]
    }
   ],
   "source": [
    "import math\n",
    "\n",
    "# Constant, Acceleration due to gravity (m/s^2)\n",
    "G = 9.81 \n",
    "\n",
    "def simulation(height_dropped):\n",
    "    # Code Code Code\n",
    "    m = 2*height_dropped\n",
    "    t = math.sqrt(m/G)\n",
    "    print(\"The object fell for\",t,\"seconds\")\n",
    "    \n",
    "simulation(5)"
   ]
  },
  {
   "cell_type": "markdown",
   "metadata": {},
   "source": [
    "# Using Loops in Simulations"
   ]
  },
  {
   "cell_type": "markdown",
   "metadata": {},
   "source": [
    "> For loops can also be used in simulations\n",
    "- They can simulate events that repeat but don't always have the same output\n"
   ]
  },
  {
   "cell_type": "code",
   "execution_count": 44,
   "metadata": {},
   "outputs": [
    {
     "name": "stdout",
     "output_type": "stream",
     "text": [
      "This is run number: 0\n",
      "This is run number: 1\n",
      "This is run number: 2\n",
      "This is run number: 3\n"
     ]
    }
   ],
   "source": [
    "# Example For Loop\n",
    "\n",
    "#Creating For Loop to repeat 4 times\n",
    "for i in range(4):\n",
    "    \n",
    "    #Action that happens inside for loop\n",
    "    print(\"This is run number: \" + str(i))\n",
    "    "
   ]
  },
  {
   "cell_type": "markdown",
   "metadata": {},
   "source": [
    "## Popcorn Hack #3"
   ]
  },
  {
   "cell_type": "markdown",
   "metadata": {},
   "source": [
    "You are gambling addic. \n",
    "\n",
    "Each session you roll 2 dice.\n",
    "\n",
    "If your dice roll is greater than or equal to 9 you win the session.\n",
    "\n",
    "If you win over 5 sessions, you win the jackpot.\n",
    "\n",
    "Simulate your odds to predict if you will hit the jackpot (how many rounds did you win?) using a for loop and random.\n"
   ]
  },
  {
   "cell_type": "code",
   "execution_count": 41,
   "metadata": {},
   "outputs": [
    {
     "name": "stdout",
     "output_type": "stream",
     "text": [
      "You lost!\n",
      "You lost!\n",
      "You lost!\n",
      "You won!\n",
      "You won!\n",
      "You lost!\n",
      "You lost!\n",
      "You lost!\n",
      "You lost!\n",
      "You lost!\n",
      "You won!\n",
      "You lost!\n",
      "You lost!\n",
      "You lost!\n",
      "You lost!\n",
      "You lost!\n",
      "You lost!\n",
      "You won!\n",
      "You lost!\n",
      "You won!\n",
      "You won the jackpot!\n",
      "You won 5 out of 19 sessions\n"
     ]
    }
   ],
   "source": [
    "import random\n",
    "\n",
    "#Code, Code, Code\n",
    "wins = 0\n",
    "\n",
    "for i in range(100):\n",
    "    dice1 = random.randint(1, 6)\n",
    "    dice2 = random.randint(1, 6)\n",
    "    total = dice1 + dice2\n",
    "    if total >= 9:\n",
    "        print(\"You won!\")\n",
    "        wins += 1\n",
    "    else:\n",
    "        print(\"You lost!\")\n",
    "    if wins == 5:\n",
    "        break\n",
    "\n",
    "if wins == 5:\n",
    "    print(\"You won the jackpot!\")\n",
    "    print(f\"You won {wins} out of {i} sessions\")"
   ]
  },
  {
   "cell_type": "markdown",
   "metadata": {},
   "source": [
    "## BONUS POPCORN HACK\n",
    "> Welcome to Flight Simulator! Your goal is to complete a Python program that simulates a flight We've set up some initial values for altitude, speed, and fuel. Your task is to update these values to make the flight more realistic.\n",
    "\n",
    "- Your mission:\n",
    "\n",
    "1. Use random changes to simulate altitude, speed, and fuel changes.\n",
    "2. Keep the flight going until it reaches 10,000 feet or runs out of fuel.\n",
    "3. Make sure altitude, speed, and fuel remain realistic."
   ]
  },
  {
   "cell_type": "code",
   "execution_count": 48,
   "metadata": {},
   "outputs": [
    {
     "name": "stdout",
     "output_type": "stream",
     "text": [
      "Welcome to Flight Simulator!\n",
      "We ran out of fuel. Good luck LOL\n",
      "The current speed in miles per hour is 750\n",
      "The altitude is 5000\n"
     ]
    }
   ],
   "source": [
    "import random\n",
    "\n",
    "# Initial parameters\n",
    "altitude = 0\n",
    "speed = 0\n",
    "fuel = 100\n",
    "\n",
    "print(\"Welcome to Flight Simulator!\")\n",
    "\n",
    "# Code Code Code\n",
    "while True:\n",
    "    altitude += 100\n",
    "    speed += 15\n",
    "    fuel -= 2\n",
    "    \n",
    "    if altitude == 10000:\n",
    "        print(f\"We just hit 10,000 feet!\")\n",
    "        print(f\"The current speed in miles per hour is {speed}\")\n",
    "        print(f\"The amount of fuel left is {fuel}%\")\n",
    "        break\n",
    "    if fuel == 0:\n",
    "        print(f\"We ran out of fuel. Good luck LOL\")\n",
    "        print(f\"The current speed in miles per hour is {speed}\")\n",
    "        print(f\"The altitude is {altitude}\")\n",
    "        break"
   ]
  },
  {
   "cell_type": "markdown",
   "metadata": {},
   "source": [
    "## QUIZ TIME"
   ]
  },
  {
   "cell_type": "markdown",
   "metadata": {},
   "source": [
    "- Quick true or false quiz, whoever answers this correctly(raise your hand) gets a piece of gum or a dinero. \n",
    "<hr>\n",
    "\n",
    "> T or F    \n",
    "- A simulation will always have the same result.\n",
    "> T or F    \n",
    "- A simulation investigates a phenomenom without real-world constraints of time, money, or safety.\n",
    "> T or F    \n",
    "- A simulation has results which are more accurate than an experiment,\n",
    "> T or F    \n",
    "- A simulation can model real-worl events that are not practical for experiments"
   ]
  },
  {
   "cell_type": "code",
   "execution_count": null,
   "metadata": {},
   "outputs": [],
   "source": [
    "#code\n",
    "False\n",
    "True\n",
    "False\n",
    "True"
   ]
  },
  {
   "cell_type": "markdown",
   "metadata": {},
   "source": [
    "## Homework hack 1"
   ]
  },
  {
   "cell_type": "code",
   "execution_count": 2,
   "metadata": {},
   "outputs": [
    {
     "name": "stdout",
     "output_type": "stream",
     "text": [
      "You rolled 6\n",
      "You won $20! You have 120 left\n",
      "You rolled 6\n",
      "You won $20! You have 140 left\n",
      "You rolled 7\n",
      "You won $20! You have 160 left\n",
      "You rolled 10\n",
      "You won $50! You have 160 left\n",
      "You rolled 8\n",
      "You won $20! You have 180 left\n",
      "Jackpot! You won $100! You have 280 left\n",
      "You rolled 12\n",
      "You won $50! You have 280 left\n",
      "You rolled 7\n",
      "You won $20! You have 300 left\n",
      "You rolled 6\n",
      "You won $20! You have 320 left\n",
      "You rolled 8\n",
      "You won $20! You have 340 left\n",
      "You rolled 9\n",
      "You won $50! You have 340 left\n",
      "Jackpot! You won $100! You have 440 left\n",
      "You rolled 4\n",
      "You lost $40. You have 400 left\n",
      "You rolled 4\n",
      "You lost $40. You have 360 left\n",
      "You rolled 4\n",
      "You lost $40. You have 320 left\n",
      "You rolled 7\n",
      "You won $20! You have 340 left\n",
      "You rolled 3\n",
      "You lost $70. You have 270 left\n",
      "You rolled 7\n",
      "You won $20! You have 290 left\n",
      "You rolled 8\n",
      "You won $20! You have 310 left\n",
      "You rolled 11\n",
      "You won $50! You have 310 left\n",
      "You rolled 8\n",
      "You won $20! You have 330 left\n",
      "Jackpot! You won $100! You have 430 left\n",
      "You rolled 12\n",
      "You won $50! You have 430 left\n",
      "You rolled 5\n",
      "You lost $40. You have 390 left\n",
      "You rolled 2\n",
      "You lost $70. You have 320 left\n",
      "You rolled 7\n",
      "You won $20! You have 340 left\n",
      "You rolled 6\n",
      "You won $20! You have 360 left\n",
      "You rolled 9\n",
      "You won $50! You have 360 left\n",
      "You rolled 5\n",
      "You lost $40. You have 320 left\n",
      "You rolled 10\n",
      "You won $50! You have 320 left\n",
      "Jackpot! You won $100! You have 420 left\n",
      "You rolled 6\n",
      "You won $20! You have 440 left\n",
      "You rolled 7\n",
      "You won $20! You have 460 left\n",
      "You rolled 8\n",
      "You won $20! You have 480 left\n",
      "You rolled 2\n",
      "You lost $70. You have 410 left\n",
      "You rolled 5\n",
      "You lost $40. You have 370 left\n",
      "You rolled 6\n",
      "You won $20! You have 390 left\n",
      "You rolled 3\n",
      "You lost $70. You have 320 left\n",
      "You rolled 7\n",
      "You won $20! You have 340 left\n",
      "Jackpot! You won $100! You have 440 left\n",
      "You rolled 3\n",
      "You lost $70. You have 370 left\n",
      "You rolled 8\n",
      "You won $20! You have 390 left\n",
      "You rolled 5\n",
      "You lost $40. You have 350 left\n",
      "You rolled 7\n",
      "You won $20! You have 370 left\n",
      "You rolled 7\n",
      "You won $20! You have 390 left\n",
      "You rolled 5\n",
      "You lost $40. You have 350 left\n",
      "You rolled 12\n",
      "You won $50! You have 350 left\n",
      "You rolled 5\n",
      "You lost $40. You have 310 left\n",
      "You rolled 7\n",
      "You won $20! You have 330 left\n",
      "Jackpot! You won $100! You have 430 left\n",
      "You rolled 8\n",
      "You won $20! You have 450 left\n",
      "You rolled 7\n",
      "You won $20! You have 470 left\n",
      "You rolled 5\n",
      "You lost $40. You have 430 left\n",
      "You rolled 11\n",
      "You won $50! You have 430 left\n",
      "You rolled 4\n",
      "You lost $40. You have 390 left\n",
      "You rolled 6\n",
      "You won $20! You have 410 left\n",
      "You rolled 9\n",
      "You won $50! You have 410 left\n",
      "Jackpot! You won $100! You have 510 left\n",
      "You rolled 4\n",
      "You lost $40. You have 470 left\n",
      "You rolled 5\n",
      "You lost $40. You have 430 left\n",
      "You rolled 8\n",
      "You won $20! You have 450 left\n",
      "You rolled 3\n",
      "You lost $70. You have 380 left\n",
      "You rolled 6\n",
      "You won $20! You have 400 left\n",
      "You rolled 11\n",
      "You won $50! You have 400 left\n",
      "You rolled 8\n",
      "You won $20! You have 420 left\n",
      "You rolled 10\n",
      "You won $50! You have 420 left\n",
      "Jackpot! You won $100! You have 520 left\n",
      "You rolled 9\n",
      "You won $50! You have 520 left\n",
      "You rolled 7\n",
      "You won $20! You have 540 left\n",
      "You rolled 9\n",
      "You won $50! You have 540 left\n",
      "You rolled 9\n",
      "You won $50! You have 540 left\n",
      "You rolled 9\n",
      "You won $50! You have 540 left\n",
      "Jackpot! You won $100! You have 640 left\n",
      "You rolled 3\n",
      "You lost $70. You have 570 left\n",
      "You rolled 9\n",
      "You won $50! You have 570 left\n",
      "You rolled 11\n",
      "You won $50! You have 570 left\n",
      "You rolled 3\n",
      "You lost $70. You have 500 left\n",
      "You rolled 9\n",
      "You won $50! You have 500 left\n",
      "You rolled 9\n",
      "You won $50! You have 500 left\n",
      "You rolled 8\n",
      "You won $20! You have 520 left\n",
      "Jackpot! You won $100! You have 620 left\n",
      "You rolled 5\n",
      "You lost $40. You have 580 left\n",
      "You rolled 7\n",
      "You won $20! You have 600 left\n",
      "You rolled 10\n",
      "You won $50! You have 600 left\n",
      "You rolled 7\n",
      "You won $20! You have 620 left\n",
      "You rolled 5\n",
      "You lost $40. You have 580 left\n",
      "You rolled 6\n",
      "You won $20! You have 600 left\n",
      "You rolled 6\n",
      "You won $20! You have 620 left\n",
      "Jackpot! You won $100! You have 720 left\n",
      "You rolled 4\n",
      "You lost $40. You have 680 left\n",
      "You rolled 8\n",
      "You won $20! You have 700 left\n",
      "You rolled 3\n",
      "You lost $70. You have 630 left\n",
      "You rolled 4\n",
      "You lost $40. You have 590 left\n",
      "You rolled 5\n",
      "You lost $40. You have 550 left\n",
      "You rolled 11\n",
      "You won $50! You have 550 left\n",
      "You rolled 10\n",
      "You won $50! You have 550 left\n",
      "You rolled 4\n",
      "You lost $40. You have 510 left\n",
      "You rolled 7\n",
      "You won $20! You have 530 left\n",
      "You rolled 10\n",
      "You won $50! You have 530 left\n",
      "Jackpot! You won $100! You have 630 left\n",
      "You rolled 6\n",
      "You won $20! You have 650 left\n",
      "You rolled 5\n",
      "You lost $40. You have 610 left\n",
      "You rolled 4\n",
      "You lost $40. You have 570 left\n",
      "You rolled 11\n",
      "You won $50! You have 570 left\n",
      "You rolled 12\n",
      "You won $50! You have 570 left\n",
      "You rolled 8\n",
      "You won $20! You have 590 left\n",
      "You rolled 10\n",
      "You won $50! You have 590 left\n",
      "Jackpot! You won $100! You have 690 left\n",
      "You rolled 9\n",
      "You won $50! You have 690 left\n",
      "You rolled 8\n",
      "You won $20! You have 710 left\n",
      "You rolled 7\n",
      "You won $20! You have 730 left\n",
      "You rolled 11\n",
      "You won $50! You have 730 left\n",
      "You rolled 6\n",
      "You won $20! You have 750 left\n",
      "Jackpot! You won $100! You have 850 left\n"
     ]
    }
   ],
   "source": [
    "import random\n",
    "\n",
    "def simulate_game():\n",
    "    money = 100\n",
    "    wins = 0\n",
    "\n",
    "    for i in range(100):\n",
    "        roll = random.randint(1, 6) + random.randint(1, 6)\n",
    "        print(f\"You rolled {roll}\")\n",
    "        if roll <= 3:\n",
    "            money -= 70\n",
    "            print(f\"You lost $70. You have {money} left\")\n",
    "        elif 3 < roll < 6:\n",
    "            money -= 40\n",
    "            print(f\"You lost $40. You have {money} left\")\n",
    "        elif 6 <= roll < 9:\n",
    "            money += 20\n",
    "            wins += 1\n",
    "            print(f\"You won $20! You have {money} left\")\n",
    "        elif roll >= 9:\n",
    "            wins += 1\n",
    "            print(f\"You won $50! You have {money} left\")\n",
    "        if wins == 5:\n",
    "            money += 100\n",
    "            print(f\"Jackpot! You won $100! You have {money} left\")\n",
    "            wins = 0\n",
    "            \n",
    "\n",
    "simulate_game()"
   ]
  },
  {
   "cell_type": "markdown",
   "metadata": {},
   "source": [
    "## Homework hack 2"
   ]
  },
  {
   "cell_type": "code",
   "execution_count": 10,
   "metadata": {},
   "outputs": [
    {
     "name": "stdout",
     "output_type": "stream",
     "text": [
      "Time: 1\n",
      "Speed: 8\n",
      "Distance: 8\n",
      "Time: 2\n",
      "Speed: 10\n",
      "Distance: 18\n",
      "Time: 3\n",
      "Speed: 12\n",
      "Distance: 30\n",
      "Time: 4\n",
      "Speed: 14\n",
      "Distance: 44\n",
      "Time: 5\n",
      "Speed: 16\n",
      "Distance: 60\n",
      "Time: 6\n",
      "Speed: 18\n",
      "Distance: 78\n",
      "Time: 7\n",
      "Speed: 20\n",
      "Distance: 98\n",
      "Time: 8\n",
      "Speed: 22\n",
      "Distance: 120\n",
      "Time: 9\n",
      "Speed: 24\n",
      "Distance: 144\n",
      "Time: 10\n",
      "Speed: 26\n",
      "Distance: 170\n",
      "Time: 11\n",
      "Speed: 25\n",
      "Distance: 195\n",
      "Time: 12\n",
      "Speed: 24\n",
      "Distance: 219\n",
      "Time: 13\n",
      "Speed: 23\n",
      "Distance: 242\n",
      "Time: 14\n",
      "Speed: 22\n",
      "Distance: 264\n",
      "Time: 15\n",
      "Speed: 21\n",
      "Distance: 285\n",
      "Time: 16\n",
      "Speed: 20\n",
      "Distance: 305\n",
      "Time: 17\n",
      "Speed: 19\n",
      "Distance: 324\n",
      "Time: 18\n",
      "Speed: 18\n",
      "Distance: 342\n",
      "Time: 19\n",
      "Speed: 17\n",
      "Distance: 359\n",
      "Time: 20\n",
      "Speed: 16\n",
      "Distance: 375\n",
      "Time: 21\n",
      "Speed: 15\n",
      "Distance: 390\n",
      "Time: 22\n",
      "Speed: 14\n",
      "Distance: 404\n",
      "Time: 23\n",
      "Speed: 13\n",
      "Distance: 417\n",
      "Time: 24\n",
      "Speed: 12\n",
      "Distance: 429\n",
      "Time: 25\n",
      "Speed: 11\n",
      "Distance: 440\n",
      "Time: 26\n",
      "Speed: 10\n",
      "Distance: 450\n",
      "Time: 27\n",
      "Speed: 9\n",
      "Distance: 459\n",
      "Time: 28\n",
      "Speed: 8\n",
      "Distance: 467\n",
      "Time: 29\n",
      "Speed: 7\n",
      "Distance: 474\n",
      "Time: 30\n",
      "Speed: 6\n",
      "Distance: 480\n",
      "Time: 31\n",
      "Speed: 5\n",
      "Distance: 485\n",
      "Time: 32\n",
      "Speed: 4\n",
      "Distance: 489\n"
     ]
    }
   ],
   "source": [
    "# Initial parameters\n",
    "speed = 6  # Initial speed\n",
    "acceleration = 2  # Acceleration rate in m/s^2\n",
    "deceleration = 1  # Deceleration rate in m/s^2\n",
    "max_speed = 60  # Maximum speed in m/s\n",
    "distance = 0  # Initial distance\n",
    "time = 0  # Initial time\n",
    "\n",
    "#Code Code Code\n",
    "def simulation(speed, acceleration, deceleration, max_speed, distance, time):\n",
    "    while distance < 1000 and speed >= 5:\n",
    "        time += 1\n",
    "        if time <= 10:\n",
    "            speed += acceleration\n",
    "            distance += speed\n",
    "            \n",
    "            print(f\"Time:\",time)\n",
    "            print(f\"Speed:\",speed)\n",
    "            print(f\"Distance:\",distance)\n",
    "        else:\n",
    "            speed -= deceleration\n",
    "            distance += speed\n",
    "            \n",
    "            print(f\"Time:\",time)\n",
    "            print(f\"Speed:\",speed)\n",
    "            print(f\"Distance:\",distance)\n",
    "        if distance >= 1000:\n",
    "            break\n",
    "            \n",
    "simulation(speed, acceleration, deceleration, max_speed, distance, time)"
   ]
  }
 ],
 "metadata": {
  "kernelspec": {
   "display_name": "Python 3",
   "language": "python",
   "name": "python3"
  },
  "language_info": {
   "codemirror_mode": {
    "name": "ipython",
    "version": 3
   },
   "file_extension": ".py",
   "mimetype": "text/x-python",
   "name": "python",
   "nbconvert_exporter": "python",
   "pygments_lexer": "ipython3",
   "version": "3.10.12"
  },
  "orig_nbformat": 4
 },
 "nbformat": 4,
 "nbformat_minor": 2
}
