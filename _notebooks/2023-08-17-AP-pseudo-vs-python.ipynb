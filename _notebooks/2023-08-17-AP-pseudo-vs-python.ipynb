{
 "cells": [
  {
   "attachments": {},
   "cell_type": "markdown",
   "metadata": {},
   "source": [
    "---\n",
    "toc: true\n",
    "comments: true\n",
    "title: College Board Pseudo Code \n",
    "description: The College Board testing language is Pseudo Code.  Pseudo mean kind-of language that we will compare to Python.\n",
    "courses: { compsci: {week: 1} }\n",
    "type: tangibles\n",
    "---"
   ]
  },
  {
   "attachments": {},
   "cell_type": "markdown",
   "metadata": {},
   "source": [
    "## Learning College Board Pseudo Code\n",
    "> College Board uses a kind-of programming language in its Multiple Choice exam. There are thousands of different programming languages have been created, and more are being created every year.  College Board has designed a pseudo code, a non operational programming language, to highlight concepts that it wants every student to learn.\n",
    "\n",
    "College Board is trying to remain neutral and build Computer Science Principles off of any language, thus the Teacher is left to pick the language(s) according to application and curriculum. \n",
    "\n",
    "College Board Pseudo Code [Exam Reference Sheet](https://apcentral.collegeboard.org/media/pdf/ap-computer-science-principles-exam-reference-sheet.pdf)\n"
   ]
  },
  {
   "cell_type": "markdown",
   "metadata": {},
   "source": [
    "| College Board | Python |\n",
    "| ------------- |------- |\n",
    "| a ← expression | a = expression |\n",
    "| DISPLAY(expression) | print(\"expression\") |\n",
    "| INPUT() | hello = input(\"world\") |\n",
    "| RANDOM(a, b) | random.randint(a, b) |\n",
    "| a = b | a == b |\n",
    "| REPEAT n TIMES | for i in range(n) |\n",
    "| REPEAT UNTIL(condition) | while (false) |\n",
    "| aList ← value1, value2, value3 | aList = [\"value1\", \"value2\", \"value3\"] |\n",
    "| list[1] | list[0] |\n",
    "\n"
   ]
  },
  {
   "attachments": {},
   "cell_type": "markdown",
   "metadata": {},
   "source": [
    "### Pseudo code IF Code Block\n",
    "```\n",
    "a ← 1\n",
    "b ← 1\n",
    "\n",
    "IF (a = b) {\n",
    "   DISPLAY(\"A equals B\")\n",
    "}\n",
    "```"
   ]
  },
  {
   "cell_type": "code",
   "execution_count": null,
   "metadata": {},
   "outputs": [],
   "source": [
    "# Python code if block to match Pseudo Code\n",
    "a = 1\n",
    "b = 1\n",
    "if (a == b):\n",
    "    # Python uses indent to establish code block, Teacher use tab key\n",
    "    print(\"A equals B\")"
   ]
  },
  {
   "attachments": {},
   "cell_type": "markdown",
   "metadata": {},
   "source": [
    "## Hacks\n",
    "> Key Learnings.  It is very important that you become fluent in \" Vocabulary\" and researching problems.\n",
    "\n",
    "- Code a JavaScript cell, this must start with %%js%% in first line of cell. Match the IF condition example in this blog.\n",
    "\n",
    "- Code a REPEAT n TIMES as described in comparison sheet in Pseudo code, Python, and JavaScript.  Be sure to comment your code.\n",
    "    -  REPEAT 100 TIMES\n",
    "    -  Sum all the numpers\n",
    "    -  PRINT the result\n",
    "\n",
    "- Reflect on our PSEUDO code and how it helped with your problem solving in these hacks.  \n",
    "\n",
    "- Maked efinition for: code block, sequence, selections, iteration.  Consider a strategy to remember Pseudo Code, Python and JavaScript for these definitions."
   ]
  },
  {
   "attachments": {},
   "cell_type": "markdown",
   "metadata": {},
   "source": []
  }
 ],
 "metadata": {
  "kernelspec": {
   "display_name": "base",
   "language": "python",
   "name": "python3"
  },
  "language_info": {
   "codemirror_mode": {
    "name": "ipython",
    "version": 3
   },
   "file_extension": ".py",
   "mimetype": "text/x-python",
   "name": "python",
   "nbconvert_exporter": "python",
   "pygments_lexer": "ipython3",
   "version": "3.9.12"
  },
  "orig_nbformat": 4
 },
 "nbformat": 4,
 "nbformat_minor": 2
}
